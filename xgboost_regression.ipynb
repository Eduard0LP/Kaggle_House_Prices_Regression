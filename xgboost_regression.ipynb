{
 "cells": [
  {
   "cell_type": "markdown",
   "metadata": {},
   "source": [
    "In this notebook a boosted tree ensemble model will be trained using Python's library xgboost for trying to predict the sale prices of the houses."
   ]
  },
  {
   "cell_type": "code",
   "execution_count": null,
   "metadata": {},
   "outputs": [],
   "source": [
    "import json\n",
    "import os\n",
    "import pickle\n",
    "\n",
    "import numpy as np\n",
    "import optuna\n",
    "import pandas as pd\n",
    "import xgboost as xgb\n",
    "from sklearn.model_selection import LeaveOneOut, cross_val_score\n",
    "from sklearn.preprocessing import StandardScaler"
   ]
  },
  {
   "cell_type": "markdown",
   "metadata": {},
   "source": [
    "# 1. Load data"
   ]
  },
  {
   "cell_type": "code",
   "execution_count": 2,
   "metadata": {},
   "outputs": [],
   "source": [
    "dataset = pd.read_csv('encoded_train_dataset.csv', sep = ',')"
   ]
  },
  {
   "cell_type": "code",
   "execution_count": 3,
   "metadata": {},
   "outputs": [
    {
     "data": {
      "text/html": [
       "<div>\n",
       "<style scoped>\n",
       "    .dataframe tbody tr th:only-of-type {\n",
       "        vertical-align: middle;\n",
       "    }\n",
       "\n",
       "    .dataframe tbody tr th {\n",
       "        vertical-align: top;\n",
       "    }\n",
       "\n",
       "    .dataframe thead th {\n",
       "        text-align: right;\n",
       "    }\n",
       "</style>\n",
       "<table border=\"1\" class=\"dataframe\">\n",
       "  <thead>\n",
       "    <tr style=\"text-align: right;\">\n",
       "      <th></th>\n",
       "      <th>Id</th>\n",
       "      <th>LotFrontage</th>\n",
       "      <th>LotArea</th>\n",
       "      <th>OverallQual</th>\n",
       "      <th>OverallCond</th>\n",
       "      <th>YearBuilt</th>\n",
       "      <th>YearRemodAdd</th>\n",
       "      <th>MasVnrArea</th>\n",
       "      <th>BsmtFinSF1</th>\n",
       "      <th>BsmtFinSF2</th>\n",
       "      <th>...</th>\n",
       "      <th>HeatingQC</th>\n",
       "      <th>CentralAir</th>\n",
       "      <th>KitchenQual</th>\n",
       "      <th>FireplaceQu</th>\n",
       "      <th>GarageFinish</th>\n",
       "      <th>GarageQual</th>\n",
       "      <th>GarageCond</th>\n",
       "      <th>PavedDrive</th>\n",
       "      <th>PoolQC</th>\n",
       "      <th>SalePrice</th>\n",
       "    </tr>\n",
       "  </thead>\n",
       "  <tbody>\n",
       "    <tr>\n",
       "      <th>0</th>\n",
       "      <td>1</td>\n",
       "      <td>65.0</td>\n",
       "      <td>8450.0</td>\n",
       "      <td>7.0</td>\n",
       "      <td>5.0</td>\n",
       "      <td>2003.0</td>\n",
       "      <td>2003.0</td>\n",
       "      <td>196.0</td>\n",
       "      <td>706.0</td>\n",
       "      <td>0.0</td>\n",
       "      <td>...</td>\n",
       "      <td>5.0</td>\n",
       "      <td>1.0</td>\n",
       "      <td>4.0</td>\n",
       "      <td>0.0</td>\n",
       "      <td>2.0</td>\n",
       "      <td>3.0</td>\n",
       "      <td>3.0</td>\n",
       "      <td>2.0</td>\n",
       "      <td>0.0</td>\n",
       "      <td>208500.0</td>\n",
       "    </tr>\n",
       "    <tr>\n",
       "      <th>1</th>\n",
       "      <td>2</td>\n",
       "      <td>80.0</td>\n",
       "      <td>9600.0</td>\n",
       "      <td>6.0</td>\n",
       "      <td>8.0</td>\n",
       "      <td>1976.0</td>\n",
       "      <td>1976.0</td>\n",
       "      <td>0.0</td>\n",
       "      <td>978.0</td>\n",
       "      <td>0.0</td>\n",
       "      <td>...</td>\n",
       "      <td>5.0</td>\n",
       "      <td>1.0</td>\n",
       "      <td>3.0</td>\n",
       "      <td>3.0</td>\n",
       "      <td>2.0</td>\n",
       "      <td>3.0</td>\n",
       "      <td>3.0</td>\n",
       "      <td>2.0</td>\n",
       "      <td>0.0</td>\n",
       "      <td>181500.0</td>\n",
       "    </tr>\n",
       "    <tr>\n",
       "      <th>2</th>\n",
       "      <td>3</td>\n",
       "      <td>68.0</td>\n",
       "      <td>11250.0</td>\n",
       "      <td>7.0</td>\n",
       "      <td>5.0</td>\n",
       "      <td>2001.0</td>\n",
       "      <td>2002.0</td>\n",
       "      <td>162.0</td>\n",
       "      <td>486.0</td>\n",
       "      <td>0.0</td>\n",
       "      <td>...</td>\n",
       "      <td>5.0</td>\n",
       "      <td>1.0</td>\n",
       "      <td>4.0</td>\n",
       "      <td>3.0</td>\n",
       "      <td>2.0</td>\n",
       "      <td>3.0</td>\n",
       "      <td>3.0</td>\n",
       "      <td>2.0</td>\n",
       "      <td>0.0</td>\n",
       "      <td>223500.0</td>\n",
       "    </tr>\n",
       "    <tr>\n",
       "      <th>3</th>\n",
       "      <td>4</td>\n",
       "      <td>60.0</td>\n",
       "      <td>9550.0</td>\n",
       "      <td>7.0</td>\n",
       "      <td>5.0</td>\n",
       "      <td>1915.0</td>\n",
       "      <td>1970.0</td>\n",
       "      <td>0.0</td>\n",
       "      <td>216.0</td>\n",
       "      <td>0.0</td>\n",
       "      <td>...</td>\n",
       "      <td>4.0</td>\n",
       "      <td>1.0</td>\n",
       "      <td>4.0</td>\n",
       "      <td>4.0</td>\n",
       "      <td>1.0</td>\n",
       "      <td>3.0</td>\n",
       "      <td>3.0</td>\n",
       "      <td>2.0</td>\n",
       "      <td>0.0</td>\n",
       "      <td>140000.0</td>\n",
       "    </tr>\n",
       "    <tr>\n",
       "      <th>4</th>\n",
       "      <td>5</td>\n",
       "      <td>84.0</td>\n",
       "      <td>14260.0</td>\n",
       "      <td>8.0</td>\n",
       "      <td>5.0</td>\n",
       "      <td>2000.0</td>\n",
       "      <td>2000.0</td>\n",
       "      <td>350.0</td>\n",
       "      <td>655.0</td>\n",
       "      <td>0.0</td>\n",
       "      <td>...</td>\n",
       "      <td>5.0</td>\n",
       "      <td>1.0</td>\n",
       "      <td>4.0</td>\n",
       "      <td>3.0</td>\n",
       "      <td>2.0</td>\n",
       "      <td>3.0</td>\n",
       "      <td>3.0</td>\n",
       "      <td>2.0</td>\n",
       "      <td>0.0</td>\n",
       "      <td>250000.0</td>\n",
       "    </tr>\n",
       "    <tr>\n",
       "      <th>...</th>\n",
       "      <td>...</td>\n",
       "      <td>...</td>\n",
       "      <td>...</td>\n",
       "      <td>...</td>\n",
       "      <td>...</td>\n",
       "      <td>...</td>\n",
       "      <td>...</td>\n",
       "      <td>...</td>\n",
       "      <td>...</td>\n",
       "      <td>...</td>\n",
       "      <td>...</td>\n",
       "      <td>...</td>\n",
       "      <td>...</td>\n",
       "      <td>...</td>\n",
       "      <td>...</td>\n",
       "      <td>...</td>\n",
       "      <td>...</td>\n",
       "      <td>...</td>\n",
       "      <td>...</td>\n",
       "      <td>...</td>\n",
       "      <td>...</td>\n",
       "    </tr>\n",
       "    <tr>\n",
       "      <th>1455</th>\n",
       "      <td>1456</td>\n",
       "      <td>62.0</td>\n",
       "      <td>7917.0</td>\n",
       "      <td>6.0</td>\n",
       "      <td>5.0</td>\n",
       "      <td>1999.0</td>\n",
       "      <td>2000.0</td>\n",
       "      <td>0.0</td>\n",
       "      <td>0.0</td>\n",
       "      <td>0.0</td>\n",
       "      <td>...</td>\n",
       "      <td>5.0</td>\n",
       "      <td>1.0</td>\n",
       "      <td>3.0</td>\n",
       "      <td>3.0</td>\n",
       "      <td>2.0</td>\n",
       "      <td>3.0</td>\n",
       "      <td>3.0</td>\n",
       "      <td>2.0</td>\n",
       "      <td>0.0</td>\n",
       "      <td>175000.0</td>\n",
       "    </tr>\n",
       "    <tr>\n",
       "      <th>1456</th>\n",
       "      <td>1457</td>\n",
       "      <td>85.0</td>\n",
       "      <td>13175.0</td>\n",
       "      <td>6.0</td>\n",
       "      <td>6.0</td>\n",
       "      <td>1978.0</td>\n",
       "      <td>1988.0</td>\n",
       "      <td>119.0</td>\n",
       "      <td>790.0</td>\n",
       "      <td>163.0</td>\n",
       "      <td>...</td>\n",
       "      <td>3.0</td>\n",
       "      <td>1.0</td>\n",
       "      <td>3.0</td>\n",
       "      <td>3.0</td>\n",
       "      <td>1.0</td>\n",
       "      <td>3.0</td>\n",
       "      <td>3.0</td>\n",
       "      <td>2.0</td>\n",
       "      <td>0.0</td>\n",
       "      <td>210000.0</td>\n",
       "    </tr>\n",
       "    <tr>\n",
       "      <th>1457</th>\n",
       "      <td>1458</td>\n",
       "      <td>66.0</td>\n",
       "      <td>9042.0</td>\n",
       "      <td>7.0</td>\n",
       "      <td>9.0</td>\n",
       "      <td>1941.0</td>\n",
       "      <td>2006.0</td>\n",
       "      <td>0.0</td>\n",
       "      <td>275.0</td>\n",
       "      <td>0.0</td>\n",
       "      <td>...</td>\n",
       "      <td>5.0</td>\n",
       "      <td>1.0</td>\n",
       "      <td>4.0</td>\n",
       "      <td>4.0</td>\n",
       "      <td>2.0</td>\n",
       "      <td>3.0</td>\n",
       "      <td>3.0</td>\n",
       "      <td>2.0</td>\n",
       "      <td>0.0</td>\n",
       "      <td>266500.0</td>\n",
       "    </tr>\n",
       "    <tr>\n",
       "      <th>1458</th>\n",
       "      <td>1459</td>\n",
       "      <td>68.0</td>\n",
       "      <td>9717.0</td>\n",
       "      <td>5.0</td>\n",
       "      <td>6.0</td>\n",
       "      <td>1950.0</td>\n",
       "      <td>1996.0</td>\n",
       "      <td>0.0</td>\n",
       "      <td>49.0</td>\n",
       "      <td>1029.0</td>\n",
       "      <td>...</td>\n",
       "      <td>4.0</td>\n",
       "      <td>1.0</td>\n",
       "      <td>4.0</td>\n",
       "      <td>0.0</td>\n",
       "      <td>1.0</td>\n",
       "      <td>3.0</td>\n",
       "      <td>3.0</td>\n",
       "      <td>2.0</td>\n",
       "      <td>0.0</td>\n",
       "      <td>142125.0</td>\n",
       "    </tr>\n",
       "    <tr>\n",
       "      <th>1459</th>\n",
       "      <td>1460</td>\n",
       "      <td>75.0</td>\n",
       "      <td>9937.0</td>\n",
       "      <td>5.0</td>\n",
       "      <td>6.0</td>\n",
       "      <td>1965.0</td>\n",
       "      <td>1965.0</td>\n",
       "      <td>0.0</td>\n",
       "      <td>830.0</td>\n",
       "      <td>290.0</td>\n",
       "      <td>...</td>\n",
       "      <td>4.0</td>\n",
       "      <td>1.0</td>\n",
       "      <td>3.0</td>\n",
       "      <td>0.0</td>\n",
       "      <td>3.0</td>\n",
       "      <td>3.0</td>\n",
       "      <td>3.0</td>\n",
       "      <td>2.0</td>\n",
       "      <td>0.0</td>\n",
       "      <td>147500.0</td>\n",
       "    </tr>\n",
       "  </tbody>\n",
       "</table>\n",
       "<p>1460 rows × 257 columns</p>\n",
       "</div>"
      ],
      "text/plain": [
       "        Id  LotFrontage  LotArea  OverallQual  OverallCond  YearBuilt  \\\n",
       "0        1         65.0   8450.0          7.0          5.0     2003.0   \n",
       "1        2         80.0   9600.0          6.0          8.0     1976.0   \n",
       "2        3         68.0  11250.0          7.0          5.0     2001.0   \n",
       "3        4         60.0   9550.0          7.0          5.0     1915.0   \n",
       "4        5         84.0  14260.0          8.0          5.0     2000.0   \n",
       "...    ...          ...      ...          ...          ...        ...   \n",
       "1455  1456         62.0   7917.0          6.0          5.0     1999.0   \n",
       "1456  1457         85.0  13175.0          6.0          6.0     1978.0   \n",
       "1457  1458         66.0   9042.0          7.0          9.0     1941.0   \n",
       "1458  1459         68.0   9717.0          5.0          6.0     1950.0   \n",
       "1459  1460         75.0   9937.0          5.0          6.0     1965.0   \n",
       "\n",
       "      YearRemodAdd  MasVnrArea  BsmtFinSF1  BsmtFinSF2  ...  HeatingQC  \\\n",
       "0           2003.0       196.0       706.0         0.0  ...        5.0   \n",
       "1           1976.0         0.0       978.0         0.0  ...        5.0   \n",
       "2           2002.0       162.0       486.0         0.0  ...        5.0   \n",
       "3           1970.0         0.0       216.0         0.0  ...        4.0   \n",
       "4           2000.0       350.0       655.0         0.0  ...        5.0   \n",
       "...            ...         ...         ...         ...  ...        ...   \n",
       "1455        2000.0         0.0         0.0         0.0  ...        5.0   \n",
       "1456        1988.0       119.0       790.0       163.0  ...        3.0   \n",
       "1457        2006.0         0.0       275.0         0.0  ...        5.0   \n",
       "1458        1996.0         0.0        49.0      1029.0  ...        4.0   \n",
       "1459        1965.0         0.0       830.0       290.0  ...        4.0   \n",
       "\n",
       "      CentralAir  KitchenQual  FireplaceQu  GarageFinish  GarageQual  \\\n",
       "0            1.0          4.0          0.0           2.0         3.0   \n",
       "1            1.0          3.0          3.0           2.0         3.0   \n",
       "2            1.0          4.0          3.0           2.0         3.0   \n",
       "3            1.0          4.0          4.0           1.0         3.0   \n",
       "4            1.0          4.0          3.0           2.0         3.0   \n",
       "...          ...          ...          ...           ...         ...   \n",
       "1455         1.0          3.0          3.0           2.0         3.0   \n",
       "1456         1.0          3.0          3.0           1.0         3.0   \n",
       "1457         1.0          4.0          4.0           2.0         3.0   \n",
       "1458         1.0          4.0          0.0           1.0         3.0   \n",
       "1459         1.0          3.0          0.0           3.0         3.0   \n",
       "\n",
       "      GarageCond  PavedDrive  PoolQC  SalePrice  \n",
       "0            3.0         2.0     0.0   208500.0  \n",
       "1            3.0         2.0     0.0   181500.0  \n",
       "2            3.0         2.0     0.0   223500.0  \n",
       "3            3.0         2.0     0.0   140000.0  \n",
       "4            3.0         2.0     0.0   250000.0  \n",
       "...          ...         ...     ...        ...  \n",
       "1455         3.0         2.0     0.0   175000.0  \n",
       "1456         3.0         2.0     0.0   210000.0  \n",
       "1457         3.0         2.0     0.0   266500.0  \n",
       "1458         3.0         2.0     0.0   142125.0  \n",
       "1459         3.0         2.0     0.0   147500.0  \n",
       "\n",
       "[1460 rows x 257 columns]"
      ]
     },
     "execution_count": 3,
     "metadata": {},
     "output_type": "execute_result"
    }
   ],
   "source": [
    "dataset"
   ]
  },
  {
   "cell_type": "markdown",
   "metadata": {},
   "source": [
    "# 2. Train the model and check accuracy"
   ]
  },
  {
   "cell_type": "markdown",
   "metadata": {},
   "source": [
    "The XGBRegressor algorithm chosen is trained  and the error metric was the negative root mean squared error.  \n",
    "The model hyperparameters are optimized using Optuna's Python package."
   ]
  },
  {
   "cell_type": "code",
   "execution_count": 4,
   "metadata": {},
   "outputs": [],
   "source": [
    "X = dataset.drop(columns = ['Id', 'SalePrice'])\n",
    "y = dataset['SalePrice'].values"
   ]
  },
  {
   "cell_type": "code",
   "execution_count": null,
   "metadata": {},
   "outputs": [],
   "source": [
    "scaler = StandardScaler()\n",
    "X = scaler.fit_transform(X)"
   ]
  },
  {
   "cell_type": "code",
   "execution_count": null,
   "metadata": {},
   "outputs": [],
   "source": [
    "def objective(trial):\n",
    "    \"\"\"Objective function.\n",
    "\n",
    "    This function contains the objective function that Optuna will optimize. The chosen objective function is the maximum of the mean and median of the root mean squared errors generated by training the model using\n",
    "    Leave One Out Cross Validation (LOOCV). The reason for not taking the mean of these errors directly is to prevent the hyperparameter optimizer from favouring those hyperparameters which yield particularly good\n",
    "    scores only on specific folds.\n",
    "\n",
    "    Args: \n",
    "        trial: optuna.trial.Trial object with a combination of hyperparameters for which the model will be trained and evaluated.\n",
    "\n",
    "    Returns:\n",
    "        float with the value of the objective function for the specific set of hyperparameters passed to the function in trial.\n",
    "    \"\"\"\n",
    "\n",
    "    param = {\n",
    "        'verbosity': 0,\n",
    "        'objective': 'reg:squarederror',\n",
    "        'booster': trial.suggest_categorical('booster', ['gbtree', 'gblinear', 'dart']),\n",
    "        'lambda': trial.suggest_float('lambda', 1e-8, 10.0, log = True),  # L2 regularization term\n",
    "        'alpha': trial.suggest_float('alpha', 1e-8, 1.0, log = True),   # L1 regularization term\n",
    "        'subsample': trial.suggest_float('subsample', 0.2, 1.0),  # Sampling ratio\n",
    "        'colsample_bytree': trial.suggest_float('colsample_bytree', 0.3, 1.0),  # Feature selection\n",
    "        'max_depth': trial.suggest_int('max_depth', 3, 9),  # Tree depth\n",
    "        'learning_rate': trial.suggest_float('learning_rate', 1e-3, 1.0),  # Learning rate\n",
    "        'n_estimators': trial.suggest_int('n_estimators', 50, 500)  # Number of trees\n",
    "    }\n",
    "\n",
    "    # Train the XGBoost model using the suggested hyperparameters\n",
    "    model = xgb.XGBRegressor(**param)\n",
    "    cv = LeaveOneOut()\n",
    "\n",
    "    # Calculate the RMSE (Root Mean Squared Error) as the evaluation metric\n",
    "    scores = cross_val_score(model, X, y, scoring='neg_root_mean_squared_error', cv=cv, n_jobs=-1)\n",
    "\n",
    "    return np.max([-scores.mean(), -np.median(scores)]) # Objective functions"
   ]
  },
  {
   "cell_type": "markdown",
   "metadata": {},
   "source": [
    "An Optuna study is created to optimize the hyperparameters of the xgboost model. Beware that this hyperparameter optimization took over a week to be executed due to the thoroughness of the optimization. If someone wants to execute a similar hyperparameter optimization for this data, I suggest to change the LOOCV for k-fold cross validation, with k a small number."
   ]
  },
  {
   "cell_type": "code",
   "execution_count": null,
   "metadata": {},
   "outputs": [
    {
     "name": "stderr",
     "output_type": "stream",
     "text": [
      "[I 2024-11-04 06:58:55,890] A new study created in memory with name: no-name-e0d8c883-6b27-416b-a1e5-0c639b178173\n",
      "Best trial: 0. Best value: 26884.3:   1%|          | 1/100 [12:44:55<1262:07:04, 45895.20s/it]"
     ]
    },
    {
     "name": "stdout",
     "output_type": "stream",
     "text": [
      "[I 2024-11-04 19:43:51,083] Trial 0 finished with value: 26884.30034781678 and parameters: {'booster': 'dart', 'lambda': 2.5524695169150674e-08, 'alpha': 1.2216703955604143e-06, 'subsample': 0.8355329991357172, 'colsample_bytree': 0.4433401593214628, 'max_depth': 8, 'learning_rate': 0.8586224687091836, 'n_estimators': 440}. Best is trial 0 with value: 26884.30034781678.\n"
     ]
    },
    {
     "name": "stderr",
     "output_type": "stream",
     "text": [
      "Best trial: 0. Best value: 26884.3:   2%|▏         | 2/100 [21:14:22<1003:55:02, 36878.60s/it]"
     ]
    },
    {
     "name": "stdout",
     "output_type": "stream",
     "text": [
      "[I 2024-11-05 04:13:18,061] Trial 1 finished with value: 55949.427905607874 and parameters: {'booster': 'dart', 'lambda': 0.12395017653752258, 'alpha': 0.0016539847900046132, 'subsample': 0.422263871492796, 'colsample_bytree': 0.596699713693659, 'max_depth': 6, 'learning_rate': 0.7994351302035386, 'n_estimators': 359}. Best is trial 0 with value: 26884.30034781678.\n"
     ]
    },
    {
     "name": "stderr",
     "output_type": "stream",
     "text": [
      "Best trial: 2. Best value: 18686.7:   3%|▎         | 3/100 [21:16:11<541:17:12, 20088.99s/it] "
     ]
    },
    {
     "name": "stdout",
     "output_type": "stream",
     "text": [
      "[I 2024-11-05 04:15:07,419] Trial 2 finished with value: 18686.66344713185 and parameters: {'booster': 'gblinear', 'lambda': 0.03104618637445788, 'alpha': 0.00017349701873989407, 'subsample': 0.6619546293426584, 'colsample_bytree': 0.3407010833180969, 'max_depth': 8, 'learning_rate': 0.007222091140760623, 'n_estimators': 435}. Best is trial 2 with value: 18686.66344713185.\n"
     ]
    },
    {
     "name": "stderr",
     "output_type": "stream",
     "text": [
      "Best trial: 2. Best value: 18686.7:   4%|▍         | 4/100 [21:50:28<345:52:24, 12970.25s/it]"
     ]
    },
    {
     "name": "stdout",
     "output_type": "stream",
     "text": [
      "[I 2024-11-05 04:49:24,644] Trial 3 finished with value: 23092.792380136987 and parameters: {'booster': 'dart', 'lambda': 0.15044574922027587, 'alpha': 1.6771317655313516e-07, 'subsample': 0.6048772976359629, 'colsample_bytree': 0.459766503733279, 'max_depth': 9, 'learning_rate': 0.5124939023301209, 'n_estimators': 91}. Best is trial 2 with value: 18686.66344713185.\n"
     ]
    },
    {
     "name": "stderr",
     "output_type": "stream",
     "text": [
      "Best trial: 2. Best value: 18686.7:   5%|▌         | 5/100 [21:52:17<219:53:04, 8332.47s/it] "
     ]
    },
    {
     "name": "stdout",
     "output_type": "stream",
     "text": [
      "[I 2024-11-05 04:51:13,874] Trial 4 finished with value: 19372.50085365609 and parameters: {'booster': 'gblinear', 'lambda': 0.006308279065332273, 'alpha': 0.003741973256283293, 'subsample': 0.7446569818735496, 'colsample_bytree': 0.4410000755426754, 'max_depth': 8, 'learning_rate': 0.6664343545099307, 'n_estimators': 332}. Best is trial 2 with value: 18686.66344713185.\n"
     ]
    },
    {
     "name": "stderr",
     "output_type": "stream",
     "text": [
      "Best trial: 2. Best value: 18686.7:   6%|▌         | 6/100 [21:52:39<143:47:04, 5506.65s/it]"
     ]
    },
    {
     "name": "stdout",
     "output_type": "stream",
     "text": [
      "[I 2024-11-05 04:51:35,119] Trial 5 finished with value: 258312.56860719447 and parameters: {'booster': 'gbtree', 'lambda': 5.1967742463550214e-05, 'alpha': 0.03231264646754655, 'subsample': 0.3382427013645978, 'colsample_bytree': 0.6583134527004931, 'max_depth': 6, 'learning_rate': 0.9189057252106994, 'n_estimators': 78}. Best is trial 2 with value: 18686.66344713185.\n"
     ]
    },
    {
     "name": "stderr",
     "output_type": "stream",
     "text": [
      "Best trial: 2. Best value: 18686.7:   7%|▋         | 7/100 [21:54:31<96:41:34, 3742.95s/it] "
     ]
    },
    {
     "name": "stdout",
     "output_type": "stream",
     "text": [
      "[I 2024-11-05 04:53:26,923] Trial 6 finished with value: 19353.691913092625 and parameters: {'booster': 'gblinear', 'lambda': 5.990680646342082e-06, 'alpha': 2.058666308212004e-08, 'subsample': 0.4656651078338985, 'colsample_bytree': 0.513027471618146, 'max_depth': 5, 'learning_rate': 0.19653139324215377, 'n_estimators': 393}. Best is trial 2 with value: 18686.66344713185.\n"
     ]
    },
    {
     "name": "stderr",
     "output_type": "stream",
     "text": [
      "Best trial: 2. Best value: 18686.7:   8%|▊         | 8/100 [21:55:14<65:33:13, 2565.15s/it]"
     ]
    },
    {
     "name": "stdout",
     "output_type": "stream",
     "text": [
      "[I 2024-11-05 04:54:10,196] Trial 7 finished with value: 40600.92479933647 and parameters: {'booster': 'gbtree', 'lambda': 1.0099949881586519e-07, 'alpha': 0.01166604641489533, 'subsample': 0.3973351719680005, 'colsample_bytree': 0.5270873054585712, 'max_depth': 6, 'learning_rate': 0.6463096619565357, 'n_estimators': 143}. Best is trial 2 with value: 18686.66344713185.\n"
     ]
    },
    {
     "name": "stderr",
     "output_type": "stream",
     "text": [
      "Best trial: 2. Best value: 18686.7:   9%|▉         | 9/100 [26:12:06<166:21:33, 6581.25s/it]"
     ]
    },
    {
     "name": "stdout",
     "output_type": "stream",
     "text": [
      "[I 2024-11-05 09:11:02,131] Trial 8 finished with value: 25327.79327910959 and parameters: {'booster': 'dart', 'lambda': 0.011310017464489815, 'alpha': 4.2312668969500675e-06, 'subsample': 0.6068782054345576, 'colsample_bytree': 0.45854876047411336, 'max_depth': 7, 'learning_rate': 0.5741978122595625, 'n_estimators': 255}. Best is trial 2 with value: 18686.66344713185.\n"
     ]
    },
    {
     "name": "stderr",
     "output_type": "stream",
     "text": [
      "Best trial: 2. Best value: 18686.7:  10%|█         | 10/100 [26:12:33<113:56:45, 4557.84s/it]"
     ]
    },
    {
     "name": "stdout",
     "output_type": "stream",
     "text": [
      "[I 2024-11-05 09:11:29,203] Trial 9 finished with value: 256875.76212342145 and parameters: {'booster': 'gbtree', 'lambda': 0.004710289951089413, 'alpha': 0.0004428602818889594, 'subsample': 0.23258605211832714, 'colsample_bytree': 0.38218531945840434, 'max_depth': 3, 'learning_rate': 0.6965326815779482, 'n_estimators': 234}. Best is trial 2 with value: 18686.66344713185.\n"
     ]
    },
    {
     "name": "stderr",
     "output_type": "stream",
     "text": [
      "Best trial: 2. Best value: 18686.7:  11%|█         | 11/100 [26:14:50<79:13:57, 3204.92s/it] "
     ]
    },
    {
     "name": "stdout",
     "output_type": "stream",
     "text": [
      "[I 2024-11-05 09:13:46,484] Trial 10 finished with value: 26752.622977311643 and parameters: {'booster': 'gblinear', 'lambda': 6.187377756503327, 'alpha': 0.3075887673429509, 'subsample': 0.9820058624267418, 'colsample_bytree': 0.8389305750336102, 'max_depth': 9, 'learning_rate': 0.0027374764844451498, 'n_estimators': 499}. Best is trial 2 with value: 18686.66344713185.\n"
     ]
    },
    {
     "name": "stderr",
     "output_type": "stream",
     "text": [
      "Best trial: 2. Best value: 18686.7:  12%|█▏        | 12/100 [26:17:07<55:31:36, 2271.55s/it]"
     ]
    },
    {
     "name": "stdout",
     "output_type": "stream",
     "text": [
      "[I 2024-11-05 09:16:03,234] Trial 11 finished with value: 19166.751769099825 and parameters: {'booster': 'gblinear', 'lambda': 5.676253603014131e-06, 'alpha': 1.0883054827537547e-08, 'subsample': 0.5147862587665973, 'colsample_bytree': 0.3379639302592472, 'max_depth': 4, 'learning_rate': 0.059559580391264216, 'n_estimators': 414}. Best is trial 2 with value: 18686.66344713185.\n"
     ]
    },
    {
     "name": "stderr",
     "output_type": "stream",
     "text": [
      "Best trial: 2. Best value: 18686.7:  13%|█▎        | 13/100 [26:20:11<39:36:56, 1639.27s/it]"
     ]
    },
    {
     "name": "stdout",
     "output_type": "stream",
     "text": [
      "[I 2024-11-05 09:19:07,590] Trial 12 finished with value: 19407.846378357768 and parameters: {'booster': 'gblinear', 'lambda': 1.4915134865983676e-06, 'alpha': 1.3738728360933857e-05, 'subsample': 0.6763819477734302, 'colsample_bytree': 0.30156942121338126, 'max_depth': 3, 'learning_rate': 0.2818643942038366, 'n_estimators': 500}. Best is trial 2 with value: 18686.66344713185.\n"
     ]
    },
    {
     "name": "stderr",
     "output_type": "stream",
     "text": [
      "Best trial: 2. Best value: 18686.7:  14%|█▍        | 14/100 [26:22:42<28:25:14, 1189.71s/it]"
     ]
    },
    {
     "name": "stdout",
     "output_type": "stream",
     "text": [
      "[I 2024-11-05 09:21:38,494] Trial 13 finished with value: 19004.20755502361 and parameters: {'booster': 'gblinear', 'lambda': 0.00013499015210979246, 'alpha': 8.083545001844359e-05, 'subsample': 0.5314651687630311, 'colsample_bytree': 0.9959512160782319, 'max_depth': 4, 'learning_rate': 0.02119588925151219, 'n_estimators': 414}. Best is trial 2 with value: 18686.66344713185.\n"
     ]
    },
    {
     "name": "stderr",
     "output_type": "stream",
     "text": [
      "Best trial: 2. Best value: 18686.7:  15%|█▌        | 15/100 [26:24:18<20:18:32, 860.15s/it] "
     ]
    },
    {
     "name": "stdout",
     "output_type": "stream",
     "text": [
      "[I 2024-11-05 09:23:14,874] Trial 14 finished with value: 19554.000570386077 and parameters: {'booster': 'gblinear', 'lambda': 0.00030029225839082026, 'alpha': 5.907306250715163e-05, 'subsample': 0.7875606874928716, 'colsample_bytree': 0.9885587782317805, 'max_depth': 4, 'learning_rate': 0.3574940280708222, 'n_estimators': 306}. Best is trial 2 with value: 18686.66344713185.\n"
     ]
    },
    {
     "name": "stderr",
     "output_type": "stream",
     "text": [
      "Best trial: 2. Best value: 18686.7:  16%|█▌        | 16/100 [26:26:14<14:50:37, 636.16s/it]"
     ]
    },
    {
     "name": "stdout",
     "output_type": "stream",
     "text": [
      "[I 2024-11-05 09:25:10,878] Trial 15 finished with value: 29666.45978167808 and parameters: {'booster': 'gblinear', 'lambda': 9.553555536954267, 'alpha': 0.0001238595588401409, 'subsample': 0.5354190015051133, 'colsample_bytree': 0.7427201025307852, 'max_depth': 5, 'learning_rate': 0.2015821361907589, 'n_estimators': 443}. Best is trial 2 with value: 18686.66344713185.\n"
     ]
    },
    {
     "name": "stderr",
     "output_type": "stream",
     "text": [
      "Best trial: 2. Best value: 18686.7:  17%|█▋        | 17/100 [26:27:51<10:55:32, 473.88s/it]"
     ]
    },
    {
     "name": "stdout",
     "output_type": "stream",
     "text": [
      "[I 2024-11-05 09:26:47,384] Trial 16 finished with value: 19471.181072914438 and parameters: {'booster': 'gblinear', 'lambda': 0.00034212179238489877, 'alpha': 3.837381723746744e-05, 'subsample': 0.8899942338161417, 'colsample_bytree': 0.9991331971474982, 'max_depth': 7, 'learning_rate': 0.1376197369642963, 'n_estimators': 385}. Best is trial 2 with value: 18686.66344713185.\n"
     ]
    },
    {
     "name": "stderr",
     "output_type": "stream",
     "text": [
      "Best trial: 17. Best value: 18073.7:  18%|█▊        | 18/100 [26:29:07<8:04:04, 354.21s/it] "
     ]
    },
    {
     "name": "stdout",
     "output_type": "stream",
     "text": [
      "[I 2024-11-05 09:28:02,989] Trial 17 finished with value: 18073.739918664385 and parameters: {'booster': 'gblinear', 'lambda': 0.20804082274307703, 'alpha': 0.0004644626460718018, 'subsample': 0.6695255804482405, 'colsample_bytree': 0.8619475088889061, 'max_depth': 4, 'learning_rate': 0.3894400210108488, 'n_estimators': 300}. Best is trial 17 with value: 18073.739918664385.\n"
     ]
    },
    {
     "name": "stderr",
     "output_type": "stream",
     "text": [
      "Best trial: 18. Best value: 17998.6:  19%|█▉        | 19/100 [26:30:05<5:58:12, 265.34s/it]"
     ]
    },
    {
     "name": "stdout",
     "output_type": "stream",
     "text": [
      "[I 2024-11-05 09:29:01,300] Trial 18 finished with value: 17998.62553376498 and parameters: {'booster': 'gblinear', 'lambda': 0.2731141193224398, 'alpha': 0.7127512875360358, 'subsample': 0.6981066513477008, 'colsample_bytree': 0.8949008913000445, 'max_depth': 8, 'learning_rate': 0.39704932906740487, 'n_estimators': 230}. Best is trial 18 with value: 17998.62553376498.\n"
     ]
    },
    {
     "name": "stderr",
     "output_type": "stream",
     "text": [
      "Best trial: 18. Best value: 17998.6:  20%|██        | 20/100 [26:32:24<5:03:22, 227.53s/it]"
     ]
    },
    {
     "name": "stdout",
     "output_type": "stream",
     "text": [
      "[I 2024-11-05 09:31:20,704] Trial 19 finished with value: 18155.1063088613 and parameters: {'booster': 'gbtree', 'lambda': 0.9274130598544393, 'alpha': 0.8472614646159816, 'subsample': 0.7240941804806368, 'colsample_bytree': 0.8807635671754187, 'max_depth': 7, 'learning_rate': 0.39037488623054234, 'n_estimators': 220}. Best is trial 18 with value: 17998.62553376498.\n"
     ]
    },
    {
     "name": "stderr",
     "output_type": "stream",
     "text": [
      "Best trial: 18. Best value: 17998.6:  21%|██        | 21/100 [26:33:12<3:48:34, 173.60s/it]"
     ]
    },
    {
     "name": "stdout",
     "output_type": "stream",
     "text": [
      "[I 2024-11-05 09:32:08,569] Trial 20 finished with value: 18045.092345355308 and parameters: {'booster': 'gblinear', 'lambda': 0.6346971268626127, 'alpha': 0.07931299670495932, 'subsample': 0.9326827833257694, 'colsample_bytree': 0.8604164990409764, 'max_depth': 5, 'learning_rate': 0.418240461408259, 'n_estimators': 173}. Best is trial 18 with value: 17998.62553376498.\n"
     ]
    },
    {
     "name": "stderr",
     "output_type": "stream",
     "text": [
      "Best trial: 18. Best value: 17998.6:  22%|██▏       | 22/100 [26:34:10<3:00:20, 138.73s/it]"
     ]
    },
    {
     "name": "stdout",
     "output_type": "stream",
     "text": [
      "[I 2024-11-05 09:33:05,967] Trial 21 finished with value: 18164.028874143834 and parameters: {'booster': 'gblinear', 'lambda': 0.7763982977488779, 'alpha': 0.08824137610641991, 'subsample': 0.9441676104170731, 'colsample_bytree': 0.8744032900109098, 'max_depth': 5, 'learning_rate': 0.4210655299071931, 'n_estimators': 189}. Best is trial 18 with value: 17998.62553376498.\n"
     ]
    },
    {
     "name": "stderr",
     "output_type": "stream",
     "text": [
      "Best trial: 18. Best value: 17998.6:  23%|██▎       | 23/100 [26:35:06<2:26:11, 113.91s/it]"
     ]
    },
    {
     "name": "stdout",
     "output_type": "stream",
     "text": [
      "[I 2024-11-05 09:34:02,009] Trial 22 finished with value: 18042.540321329194 and parameters: {'booster': 'gblinear', 'lambda': 0.6311394422397022, 'alpha': 0.1330921422337379, 'subsample': 0.8113861927961968, 'colsample_bytree': 0.7811866985671544, 'max_depth': 4, 'learning_rate': 0.4774359071160964, 'n_estimators': 169}. Best is trial 18 with value: 17998.62553376498.\n"
     ]
    },
    {
     "name": "stderr",
     "output_type": "stream",
     "text": [
      "Best trial: 18. Best value: 17998.6:  24%|██▍       | 24/100 [26:36:00<2:01:45, 96.13s/it] "
     ]
    },
    {
     "name": "stdout",
     "output_type": "stream",
     "text": [
      "[I 2024-11-05 09:34:56,657] Trial 23 finished with value: 18861.618012895975 and parameters: {'booster': 'gblinear', 'lambda': 1.3555934649943568, 'alpha': 0.13737859353384782, 'subsample': 0.8774506695076277, 'colsample_bytree': 0.759911832928374, 'max_depth': 5, 'learning_rate': 0.4844596692795843, 'n_estimators': 155}. Best is trial 18 with value: 17998.62553376498.\n"
     ]
    },
    {
     "name": "stderr",
     "output_type": "stream",
     "text": [
      "Best trial: 18. Best value: 17998.6:  25%|██▌       | 25/100 [26:36:46<1:41:14, 80.99s/it]"
     ]
    },
    {
     "name": "stdout",
     "output_type": "stream",
     "text": [
      "[I 2024-11-05 09:35:42,318] Trial 24 finished with value: 19379.19129571784 and parameters: {'booster': 'gblinear', 'lambda': 0.0014651578499560926, 'alpha': 0.9669374808791057, 'subsample': 0.8054828776590028, 'colsample_bytree': 0.7751144369548852, 'max_depth': 3, 'learning_rate': 0.26828063632151744, 'n_estimators': 125}. Best is trial 18 with value: 17998.62553376498.\n"
     ]
    },
    {
     "name": "stderr",
     "output_type": "stream",
     "text": [
      "Best trial: 18. Best value: 17998.6:  26%|██▌       | 26/100 [26:37:57<1:36:18, 78.09s/it]"
     ]
    },
    {
     "name": "stdout",
     "output_type": "stream",
     "text": [
      "[I 2024-11-05 09:36:53,660] Trial 25 finished with value: 18756.711102211313 and parameters: {'booster': 'gblinear', 'lambda': 0.047511843007095524, 'alpha': 0.014197713437042035, 'subsample': 0.9140350930658158, 'colsample_bytree': 0.9246651561897452, 'max_depth': 5, 'learning_rate': 0.5615894030555898, 'n_estimators': 189}. Best is trial 18 with value: 17998.62553376498.\n"
     ]
    },
    {
     "name": "stderr",
     "output_type": "stream",
     "text": [
      "Best trial: 18. Best value: 17998.6:  27%|██▋       | 27/100 [26:39:09<1:32:34, 76.09s/it]"
     ]
    },
    {
     "name": "stdout",
     "output_type": "stream",
     "text": [
      "[I 2024-11-05 09:38:05,091] Trial 26 finished with value: 20187.544723886986 and parameters: {'booster': 'gblinear', 'lambda': 2.3007445055992077, 'alpha': 0.05981024566401425, 'subsample': 0.9819417927367705, 'colsample_bytree': 0.6833821280893901, 'max_depth': 6, 'learning_rate': 0.47372720545541414, 'n_estimators': 188}. Best is trial 18 with value: 17998.62553376498.\n"
     ]
    },
    {
     "name": "stderr",
     "output_type": "stream",
     "text": [
      "Best trial: 27. Best value: 17988.5:  28%|██▊       | 28/100 [26:39:32<1:12:27, 60.38s/it]"
     ]
    },
    {
     "name": "stdout",
     "output_type": "stream",
     "text": [
      "[I 2024-11-05 09:38:28,824] Trial 27 finished with value: 17988.533442583477 and parameters: {'booster': 'gblinear', 'lambda': 0.5402840969702453, 'alpha': 0.2675072613576354, 'subsample': 0.8535670111416656, 'colsample_bytree': 0.8111732437707728, 'max_depth': 4, 'learning_rate': 0.3186637846271423, 'n_estimators': 57}. Best is trial 27 with value: 17988.533442583477.\n"
     ]
    },
    {
     "name": "stderr",
     "output_type": "stream",
     "text": [
      "Best trial: 28. Best value: 16886.2:  29%|██▉       | 29/100 [26:40:06<1:02:03, 52.45s/it]"
     ]
    },
    {
     "name": "stdout",
     "output_type": "stream",
     "text": [
      "[I 2024-11-05 09:39:02,750] Trial 28 finished with value: 16886.199941138697 and parameters: {'booster': 'gbtree', 'lambda': 0.03652221372047977, 'alpha': 0.3179476761166952, 'subsample': 0.7479787125997049, 'colsample_bytree': 0.8062579315228756, 'max_depth': 4, 'learning_rate': 0.2976845859937803, 'n_estimators': 110}. Best is trial 28 with value: 16886.199941138697.\n"
     ]
    },
    {
     "name": "stderr",
     "output_type": "stream",
     "text": [
      "Best trial: 29. Best value: 16826.9:  30%|███       | 30/100 [26:40:23<48:46, 41.80s/it]  "
     ]
    },
    {
     "name": "stdout",
     "output_type": "stream",
     "text": [
      "[I 2024-11-05 09:39:19,715] Trial 29 finished with value: 16826.921924497005 and parameters: {'booster': 'gbtree', 'lambda': 0.027219580659068, 'alpha': 0.42823475887524287, 'subsample': 0.8507697189496507, 'colsample_bytree': 0.9354970649592974, 'max_depth': 3, 'learning_rate': 0.31412542062593, 'n_estimators': 65}. Best is trial 29 with value: 16826.921924497005.\n"
     ]
    },
    {
     "name": "stderr",
     "output_type": "stream",
     "text": [
      "Best trial: 30. Best value: 16389.1:  31%|███       | 31/100 [26:40:48<41:59, 36.52s/it]"
     ]
    },
    {
     "name": "stdout",
     "output_type": "stream",
     "text": [
      "[I 2024-11-05 09:39:43,910] Trial 30 finished with value: 16389.050353167808 and parameters: {'booster': 'gbtree', 'lambda': 0.035868268848181846, 'alpha': 0.00332075576178537, 'subsample': 0.8559540485829725, 'colsample_bytree': 0.8106711363284446, 'max_depth': 3, 'learning_rate': 0.2786791079883979, 'n_estimators': 109}. Best is trial 30 with value: 16389.050353167808.\n"
     ]
    },
    {
     "name": "stderr",
     "output_type": "stream",
     "text": [
      "Best trial: 30. Best value: 16389.1:  32%|███▏      | 32/100 [26:41:10<36:38, 32.34s/it]"
     ]
    },
    {
     "name": "stdout",
     "output_type": "stream",
     "text": [
      "[I 2024-11-05 09:40:06,489] Trial 31 finished with value: 16446.362457191783 and parameters: {'booster': 'gbtree', 'lambda': 0.027430422037671903, 'alpha': 0.0068794841165909296, 'subsample': 0.8565394325666549, 'colsample_bytree': 0.7077881065621437, 'max_depth': 3, 'learning_rate': 0.2992533340139315, 'n_estimators': 105}. Best is trial 30 with value: 16389.050353167808.\n"
     ]
    },
    {
     "name": "stderr",
     "output_type": "stream",
     "text": [
      "Best trial: 32. Best value: 16020.1:  33%|███▎      | 33/100 [26:41:34<33:16, 29.80s/it]"
     ]
    },
    {
     "name": "stdout",
     "output_type": "stream",
     "text": [
      "[I 2024-11-05 09:40:30,356] Trial 32 finished with value: 16020.11613869863 and parameters: {'booster': 'gbtree', 'lambda': 0.03622481522499954, 'alpha': 0.002319356440979267, 'subsample': 0.7714496433289011, 'colsample_bytree': 0.7189693490057143, 'max_depth': 3, 'learning_rate': 0.22198865776990157, 'n_estimators': 114}. Best is trial 32 with value: 16020.11613869863.\n"
     ]
    },
    {
     "name": "stderr",
     "output_type": "stream",
     "text": [
      "Best trial: 32. Best value: 16020.1:  34%|███▍      | 34/100 [26:41:47<27:14, 24.76s/it]"
     ]
    },
    {
     "name": "stdout",
     "output_type": "stream",
     "text": [
      "[I 2024-11-05 09:40:43,378] Trial 33 finished with value: 16343.285113441782 and parameters: {'booster': 'gbtree', 'lambda': 0.0017145549974182574, 'alpha': 0.0019961284999744098, 'subsample': 0.8303634970047468, 'colsample_bytree': 0.7092190358157512, 'max_depth': 3, 'learning_rate': 0.20331531784242887, 'n_estimators': 51}. Best is trial 32 with value: 16020.11613869863.\n"
     ]
    },
    {
     "name": "stderr",
     "output_type": "stream",
     "text": [
      "Best trial: 34. Best value: 15640.4:  35%|███▌      | 35/100 [26:42:09<25:50, 23.85s/it]"
     ]
    },
    {
     "name": "stdout",
     "output_type": "stream",
     "text": [
      "[I 2024-11-05 09:41:05,104] Trial 34 finished with value: 15640.437719392123 and parameters: {'booster': 'gbtree', 'lambda': 0.001825727921827405, 'alpha': 0.001861200710822369, 'subsample': 0.7763241740855756, 'colsample_bytree': 0.7189634631359068, 'max_depth': 3, 'learning_rate': 0.1561732220183782, 'n_estimators': 105}. Best is trial 34 with value: 15640.437719392123.\n"
     ]
    },
    {
     "name": "stderr",
     "output_type": "stream",
     "text": [
      "Best trial: 34. Best value: 15640.4:  36%|███▌      | 36/100 [26:42:22<21:58, 20.60s/it]"
     ]
    },
    {
     "name": "stdout",
     "output_type": "stream",
     "text": [
      "[I 2024-11-05 09:41:18,099] Trial 35 finished with value: 16744.93585188356 and parameters: {'booster': 'gbtree', 'lambda': 0.0010638530665860802, 'alpha': 0.0015690378703873062, 'subsample': 0.7687893416487961, 'colsample_bytree': 0.5789070058205521, 'max_depth': 3, 'learning_rate': 0.11309123689115431, 'n_estimators': 53}. Best is trial 34 with value: 15640.437719392123.\n"
     ]
    },
    {
     "name": "stderr",
     "output_type": "stream",
     "text": [
      "Best trial: 34. Best value: 15640.4:  37%|███▋      | 37/100 [26:42:39<20:38, 19.66s/it]"
     ]
    },
    {
     "name": "stdout",
     "output_type": "stream",
     "text": [
      "[I 2024-11-05 09:41:35,567] Trial 36 finished with value: 16515.314680543663 and parameters: {'booster': 'gbtree', 'lambda': 0.0021381987584199865, 'alpha': 0.0013860446621694338, 'subsample': 0.6325062456590915, 'colsample_bytree': 0.632639197340416, 'max_depth': 3, 'learning_rate': 0.19590190109425454, 'n_estimators': 90}. Best is trial 34 with value: 15640.437719392123.\n"
     ]
    },
    {
     "name": "stderr",
     "output_type": "stream",
     "text": [
      "Best trial: 37. Best value: 15572.6:  38%|███▊      | 38/100 [26:43:04<21:56, 21.23s/it]"
     ]
    },
    {
     "name": "stdout",
     "output_type": "stream",
     "text": [
      "[I 2024-11-05 09:42:00,454] Trial 37 finished with value: 15572.591842358734 and parameters: {'booster': 'gbtree', 'lambda': 0.005390991279153621, 'alpha': 0.002781663204854347, 'subsample': 0.8121520286731735, 'colsample_bytree': 0.7254423651348947, 'max_depth': 3, 'learning_rate': 0.11013111266911392, 'n_estimators': 136}. Best is trial 37 with value: 15572.591842358734.\n"
     ]
    },
    {
     "name": "stderr",
     "output_type": "stream",
     "text": [
      "Best trial: 37. Best value: 15572.6:  39%|███▉      | 39/100 [26:43:26<21:53, 21.54s/it]"
     ]
    },
    {
     "name": "stdout",
     "output_type": "stream",
     "text": [
      "[I 2024-11-05 09:42:22,720] Trial 38 finished with value: 15964.321449593323 and parameters: {'booster': 'gbtree', 'lambda': 4.1568102558184e-05, 'alpha': 0.0005347720685508069, 'subsample': 0.7219307024499915, 'colsample_bytree': 0.6134563654362789, 'max_depth': 3, 'learning_rate': 0.13470879241286535, 'n_estimators': 133}. Best is trial 37 with value: 15572.591842358734.\n"
     ]
    },
    {
     "name": "stderr",
     "output_type": "stream",
     "text": [
      "Best trial: 39. Best value: 15402.8:  40%|████      | 40/100 [27:59:36<23:05:50, 1385.84s/it]"
     ]
    },
    {
     "name": "stdout",
     "output_type": "stream",
     "text": [
      "[I 2024-11-05 10:58:31,916] Trial 39 finished with value: 15402.849411386986 and parameters: {'booster': 'dart', 'lambda': 6.719074363286243e-05, 'alpha': 0.0003584990648640236, 'subsample': 0.734394390026532, 'colsample_bytree': 0.6079335446584245, 'max_depth': 4, 'learning_rate': 0.10442093658040447, 'n_estimators': 138}. Best is trial 39 with value: 15402.849411386986.\n"
     ]
    },
    {
     "name": "stderr",
     "output_type": "stream",
     "text": [
      "Best trial: 40. Best value: 15153.6:  41%|████      | 41/100 [29:22:12<40:15:58, 2456.93s/it]"
     ]
    },
    {
     "name": "stdout",
     "output_type": "stream",
     "text": [
      "[I 2024-11-05 12:21:08,051] Trial 40 finished with value: 15153.616438356165 and parameters: {'booster': 'dart', 'lambda': 4.315408760246746e-05, 'alpha': 0.0003750844018113138, 'subsample': 0.7194365088574829, 'colsample_bytree': 0.615621448010004, 'max_depth': 4, 'learning_rate': 0.11213725057278559, 'n_estimators': 146}. Best is trial 40 with value: 15153.616438356165.\n"
     ]
    },
    {
     "name": "stderr",
     "output_type": "stream",
     "text": [
      "Best trial: 41. Best value: 15139.6:  42%|████▏     | 42/100 [30:41:10<50:36:40, 3141.39s/it]"
     ]
    },
    {
     "name": "stdout",
     "output_type": "stream",
     "text": [
      "[I 2024-11-05 13:40:06,522] Trial 41 finished with value: 15139.616994863014 and parameters: {'booster': 'dart', 'lambda': 1.5259613979150708e-05, 'alpha': 0.00031933257123812047, 'subsample': 0.7142866190274634, 'colsample_bytree': 0.5875226791133192, 'max_depth': 4, 'learning_rate': 0.10862531843240976, 'n_estimators': 141}. Best is trial 41 with value: 15139.616994863014.\n"
     ]
    },
    {
     "name": "stderr",
     "output_type": "stream",
     "text": [
      "Best trial: 41. Best value: 15139.6:  43%|████▎     | 43/100 [32:07:12<59:20:13, 3747.61s/it]"
     ]
    },
    {
     "name": "stdout",
     "output_type": "stream",
     "text": [
      "[I 2024-11-05 15:06:08,648] Trial 42 finished with value: 15162.43417166096 and parameters: {'booster': 'dart', 'lambda': 1.8078503597010002e-05, 'alpha': 0.000343271592822586, 'subsample': 0.6452778209237258, 'colsample_bytree': 0.5635540608318563, 'max_depth': 4, 'learning_rate': 0.07910479539375354, 'n_estimators': 148}. Best is trial 41 with value: 15139.616994863014.\n"
     ]
    },
    {
     "name": "stderr",
     "output_type": "stream",
     "text": [
      "Best trial: 43. Best value: 14970.3:  44%|████▍     | 44/100 [33:37:18<66:02:02, 4245.05s/it]"
     ]
    },
    {
     "name": "stdout",
     "output_type": "stream",
     "text": [
      "[I 2024-11-05 16:36:14,396] Trial 43 finished with value: 14970.305072773972 and parameters: {'booster': 'dart', 'lambda': 1.63807827572199e-05, 'alpha': 2.0631647801816688e-05, 'subsample': 0.631676580952859, 'colsample_bytree': 0.5612034106175162, 'max_depth': 4, 'learning_rate': 0.07627831043636918, 'n_estimators': 151}. Best is trial 43 with value: 14970.305072773972.\n"
     ]
    },
    {
     "name": "stderr",
     "output_type": "stream",
     "text": [
      "Best trial: 44. Best value: 14754.3:  45%|████▌     | 45/100 [36:30:28<93:01:03, 6088.43s/it]"
     ]
    },
    {
     "name": "stdout",
     "output_type": "stream",
     "text": [
      "[I 2024-11-05 19:29:24,033] Trial 44 finished with value: 14754.271307791096 and parameters: {'booster': 'dart', 'lambda': 1.2119551135922079e-05, 'alpha': 8.526627132295405e-07, 'subsample': 0.6315156277066792, 'colsample_bytree': 0.5549348769605945, 'max_depth': 4, 'learning_rate': 0.06696289754690535, 'n_estimators': 210}. Best is trial 44 with value: 14754.271307791096.\n"
     ]
    },
    {
     "name": "stderr",
     "output_type": "stream",
     "text": [
      "Best trial: 44. Best value: 14754.3:  46%|████▌     | 46/100 [39:21:37<110:08:33, 7342.84s/it]"
     ]
    },
    {
     "name": "stdout",
     "output_type": "stream",
     "text": [
      "[I 2024-11-05 22:20:33,823] Trial 45 finished with value: 15277.633797089042 and parameters: {'booster': 'dart', 'lambda': 1.0145859028589959e-05, 'alpha': 5.501225947172474e-07, 'subsample': 0.5668426795885785, 'colsample_bytree': 0.5477593741190692, 'max_depth': 4, 'learning_rate': 0.05746473594651415, 'n_estimators': 209}. Best is trial 44 with value: 14754.271307791096.\n"
     ]
    },
    {
     "name": "stderr",
     "output_type": "stream",
     "text": [
      "Best trial: 46. Best value: 14576.5:  47%|████▋     | 47/100 [43:55:30<148:14:54, 10069.71s/it]"
     ]
    },
    {
     "name": "stdout",
     "output_type": "stream",
     "text": [
      "[I 2024-11-06 02:54:26,225] Trial 46 finished with value: 14576.526723030822 and parameters: {'booster': 'dart', 'lambda': 3.7999863898967313e-07, 'alpha': 4.359220762245898e-06, 'subsample': 0.633108389499177, 'colsample_bytree': 0.4921187708718207, 'max_depth': 5, 'learning_rate': 0.05521232293571192, 'n_estimators': 264}. Best is trial 46 with value: 14576.526723030822.\n"
     ]
    },
    {
     "name": "stderr",
     "output_type": "stream",
     "text": [
      "Best trial: 46. Best value: 14576.5:  48%|████▊     | 48/100 [48:21:43<171:01:58, 11840.74s/it]"
     ]
    },
    {
     "name": "stdout",
     "output_type": "stream",
     "text": [
      "[I 2024-11-06 07:20:39,374] Trial 47 finished with value: 14886.298961900686 and parameters: {'booster': 'dart', 'lambda': 6.309874823487035e-07, 'alpha': 3.751136714450159e-06, 'subsample': 0.4810130152870218, 'colsample_bytree': 0.497754451050506, 'max_depth': 5, 'learning_rate': 0.03752335780866841, 'n_estimators': 260}. Best is trial 46 with value: 14576.526723030822.\n"
     ]
    },
    {
     "name": "stderr",
     "output_type": "stream",
     "text": [
      "Best trial: 46. Best value: 14576.5:  49%|████▉     | 49/100 [52:53:50<186:48:41, 13186.69s/it]"
     ]
    },
    {
     "name": "stdout",
     "output_type": "stream",
     "text": [
      "[I 2024-11-06 11:52:46,619] Trial 48 finished with value: 14851.347452910959 and parameters: {'booster': 'dart', 'lambda': 4.560860979744423e-07, 'alpha': 3.5470561431315596e-06, 'subsample': 0.49266617991219464, 'colsample_bytree': 0.4792734019372982, 'max_depth': 6, 'learning_rate': 0.021473381922398276, 'n_estimators': 262}. Best is trial 46 with value: 14576.526723030822.\n"
     ]
    },
    {
     "name": "stderr",
     "output_type": "stream",
     "text": [
      "Best trial: 46. Best value: 14576.5:  50%|█████     | 50/100 [57:25:51<196:12:19, 14126.79s/it]"
     ]
    },
    {
     "name": "stdout",
     "output_type": "stream",
     "text": [
      "[I 2024-11-06 16:24:46,979] Trial 49 finished with value: 14701.649047517123 and parameters: {'booster': 'dart', 'lambda': 1.9050410289191058e-07, 'alpha': 1.8826179471293004e-06, 'subsample': 0.4331215320577222, 'colsample_bytree': 0.48767682966263964, 'max_depth': 6, 'learning_rate': 0.036947432371617905, 'n_estimators': 261}. Best is trial 46 with value: 14576.526723030822.\n"
     ]
    },
    {
     "name": "stderr",
     "output_type": "stream",
     "text": [
      "Best trial: 46. Best value: 14576.5:  51%|█████     | 51/100 [61:53:20<200:08:01, 14703.70s/it]"
     ]
    },
    {
     "name": "stdout",
     "output_type": "stream",
     "text": [
      "[I 2024-11-06 20:52:16,788] Trial 50 finished with value: 15078.869734589041 and parameters: {'booster': 'dart', 'lambda': 1.7442301479431483e-07, 'alpha': 2.58918978613177e-06, 'subsample': 0.4301209663523341, 'colsample_bytree': 0.4229435704889747, 'max_depth': 6, 'learning_rate': 0.02545689105877568, 'n_estimators': 260}. Best is trial 46 with value: 14576.526723030822.\n"
     ]
    },
    {
     "name": "stderr",
     "output_type": "stream",
     "text": [
      "Best trial: 46. Best value: 14576.5:  52%|█████▏    | 52/100 [67:13:41<214:07:04, 16058.84s/it]"
     ]
    },
    {
     "name": "stdout",
     "output_type": "stream",
     "text": [
      "[I 2024-11-07 02:12:37,620] Trial 51 finished with value: 15336.206346318493 and parameters: {'booster': 'dart', 'lambda': 8.030839568319602e-07, 'alpha': 3.100684644390877e-07, 'subsample': 0.3443769156013678, 'colsample_bytree': 0.4862671846819502, 'max_depth': 7, 'learning_rate': 0.046538771607881106, 'n_estimators': 284}. Best is trial 46 with value: 14576.526723030822.\n"
     ]
    },
    {
     "name": "stderr",
     "output_type": "stream",
     "text": [
      "Best trial: 46. Best value: 14576.5:  53%|█████▎    | 53/100 [74:32:11<249:48:18, 19134.02s/it]"
     ]
    },
    {
     "name": "stdout",
     "output_type": "stream",
     "text": [
      "[I 2024-11-07 09:31:07,064] Trial 52 finished with value: 22263.42483946918 and parameters: {'booster': 'dart', 'lambda': 5.992509455325619e-08, 'alpha': 1.112882054602793e-05, 'subsample': 0.4871913677067195, 'colsample_bytree': 0.4972029817954629, 'max_depth': 6, 'learning_rate': 0.004288151943398093, 'n_estimators': 333}. Best is trial 46 with value: 14576.526723030822.\n"
     ]
    },
    {
     "name": "stderr",
     "output_type": "stream",
     "text": [
      "Best trial: 46. Best value: 14576.5:  54%|█████▍    | 54/100 [78:53:16<231:11:41, 18093.51s/it]"
     ]
    },
    {
     "name": "stdout",
     "output_type": "stream",
     "text": [
      "[I 2024-11-07 13:52:12,710] Trial 53 finished with value: 14638.496532534247 and parameters: {'booster': 'dart', 'lambda': 1.1122017188036997e-08, 'alpha': 8.552716944545674e-08, 'subsample': 0.6011546363264377, 'colsample_bytree': 0.4176723662956555, 'max_depth': 6, 'learning_rate': 0.0657782119211012, 'n_estimators': 258}. Best is trial 46 with value: 14576.526723030822.\n"
     ]
    },
    {
     "name": "stderr",
     "output_type": "stream",
     "text": [
      "Best trial: 46. Best value: 14576.5:  55%|█████▌    | 55/100 [83:01:13<214:06:19, 17128.43s/it]"
     ]
    },
    {
     "name": "stdout",
     "output_type": "stream",
     "text": [
      "[I 2024-11-07 18:00:09,298] Trial 54 finished with value: 16623.949903681507 and parameters: {'booster': 'dart', 'lambda': 1.3762866321088099e-08, 'alpha': 8.3715632048389e-08, 'subsample': 0.588482682546795, 'colsample_bytree': 0.4139612547962832, 'max_depth': 5, 'learning_rate': 0.16115501055885323, 'n_estimators': 251}. Best is trial 46 with value: 14576.526723030822.\n"
     ]
    },
    {
     "name": "stderr",
     "output_type": "stream",
     "text": [
      "Best trial: 46. Best value: 14576.5:  56%|█████▌    | 56/100 [88:06:41<213:44:48, 17488.37s/it]"
     ]
    },
    {
     "name": "stdout",
     "output_type": "stream",
     "text": [
      "[I 2024-11-07 23:05:37,533] Trial 55 finished with value: 81473.68044734589 and parameters: {'booster': 'dart', 'lambda': 4.3544070267408745e-07, 'alpha': 6.604172402664291e-08, 'subsample': 0.44037847872479496, 'colsample_bytree': 0.4735567053649624, 'max_depth': 6, 'learning_rate': 0.8268890853626946, 'n_estimators': 279}. Best is trial 46 with value: 14576.526723030822.\n"
     ]
    },
    {
     "name": "stderr",
     "output_type": "stream",
     "text": [
      "Best trial: 46. Best value: 14576.5:  57%|█████▋    | 57/100 [94:34:52<229:40:49, 19229.05s/it]"
     ]
    },
    {
     "name": "stdout",
     "output_type": "stream",
     "text": [
      "[I 2024-11-08 05:33:48,168] Trial 56 finished with value: 15184.882758989726 and parameters: {'booster': 'dart', 'lambda': 2.3890124702636145e-06, 'alpha': 2.4328183901835116e-06, 'subsample': 0.3597198498427844, 'colsample_bytree': 0.38162544779408336, 'max_depth': 5, 'learning_rate': 0.03892950709184305, 'n_estimators': 315}. Best is trial 46 with value: 14576.526723030822.\n"
     ]
    },
    {
     "name": "stderr",
     "output_type": "stream",
     "text": [
      "Best trial: 46. Best value: 14576.5:  58%|█████▊    | 58/100 [98:39:17<208:21:58, 17859.95s/it]"
     ]
    },
    {
     "name": "stdout",
     "output_type": "stream",
     "text": [
      "[I 2024-11-08 09:38:13,564] Trial 57 finished with value: 168674.71321703767 and parameters: {'booster': 'dart', 'lambda': 3.7521296490698664e-08, 'alpha': 1.0585314770759668e-06, 'subsample': 0.48810105277563914, 'colsample_bytree': 0.5237677565014204, 'max_depth': 6, 'learning_rate': 0.984214018963006, 'n_estimators': 250}. Best is trial 46 with value: 14576.526723030822.\n"
     ]
    },
    {
     "name": "stderr",
     "output_type": "stream",
     "text": [
      "Best trial: 46. Best value: 14576.5:  59%|█████▉    | 59/100 [106:16:03<236:01:11, 20723.70s/it]"
     ]
    },
    {
     "name": "stdout",
     "output_type": "stream",
     "text": [
      "[I 2024-11-08 17:14:59,324] Trial 58 finished with value: 66922822.38068279 and parameters: {'booster': 'dart', 'lambda': 1.9511314902800584e-07, 'alpha': 5.15287155860781e-06, 'subsample': 0.28137315927665474, 'colsample_bytree': 0.44263158754074095, 'max_depth': 7, 'learning_rate': 0.7527977593359098, 'n_estimators': 342}. Best is trial 46 with value: 14576.526723030822.\n"
     ]
    },
    {
     "name": "stderr",
     "output_type": "stream",
     "text": [
      "Best trial: 46. Best value: 14576.5:  60%|██████    | 60/100 [111:57:05<229:23:28, 20645.22s/it]"
     ]
    },
    {
     "name": "stdout",
     "output_type": "stream",
     "text": [
      "[I 2024-11-08 22:56:01,419] Trial 59 finished with value: 43375.30657106164 and parameters: {'booster': 'dart', 'lambda': 3.3491677988140655e-07, 'alpha': 1.0089828599379456e-06, 'subsample': 0.39294203765622815, 'colsample_bytree': 0.38901287405929513, 'max_depth': 6, 'learning_rate': 0.001217542842021191, 'n_estimators': 294}. Best is trial 46 with value: 14576.526723030822.\n"
     ]
    },
    {
     "name": "stderr",
     "output_type": "stream",
     "text": [
      "Best trial: 46. Best value: 14576.5:  61%|██████    | 61/100 [116:41:16<211:58:25, 19566.80s/it]"
     ]
    },
    {
     "name": "stdout",
     "output_type": "stream",
     "text": [
      "[I 2024-11-09 03:40:11,910] Trial 60 finished with value: 17454.939223030822 and parameters: {'booster': 'dart', 'lambda': 1.0342138069133603e-08, 'alpha': 1.6521368553209255e-07, 'subsample': 0.5513654939585956, 'colsample_bytree': 0.5097774153536763, 'max_depth': 5, 'learning_rate': 0.24249292293207375, 'n_estimators': 269}. Best is trial 46 with value: 14576.526723030822.\n"
     ]
    },
    {
     "name": "stderr",
     "output_type": "stream",
     "text": [
      "Best trial: 46. Best value: 14576.5:  62%|██████▏   | 62/100 [120:19:07<185:58:10, 17618.17s/it]"
     ]
    },
    {
     "name": "stdout",
     "output_type": "stream",
     "text": [
      "[I 2024-11-09 07:18:03,263] Trial 61 finished with value: 14738.658508133562 and parameters: {'booster': 'dart', 'lambda': 2.7809877562301268e-06, 'alpha': 3.354895735154723e-05, 'subsample': 0.6122915761936144, 'colsample_bytree': 0.5507330350216487, 'max_depth': 5, 'learning_rate': 0.07438958973918766, 'n_estimators': 235}. Best is trial 46 with value: 14576.526723030822.\n"
     ]
    },
    {
     "name": "stderr",
     "output_type": "stream",
     "text": [
      "Best trial: 46. Best value: 14576.5:  63%|██████▎   | 63/100 [123:59:49<167:34:54, 16305.26s/it]"
     ]
    },
    {
     "name": "stdout",
     "output_type": "stream",
     "text": [
      "[I 2024-11-09 10:58:45,079] Trial 62 finished with value: 14917.981153681507 and parameters: {'booster': 'dart', 'lambda': 3.354176238237359e-06, 'alpha': 5.040254362575997e-06, 'subsample': 0.5920672655227803, 'colsample_bytree': 0.536401006406864, 'max_depth': 6, 'learning_rate': 0.07402536848610791, 'n_estimators': 237}. Best is trial 46 with value: 14576.526723030822.\n"
     ]
    },
    {
     "name": "stderr",
     "output_type": "stream",
     "text": [
      "Best trial: 46. Best value: 14576.5:  64%|██████▍   | 64/100 [126:47:04<144:14:29, 14424.14s/it]"
     ]
    },
    {
     "name": "stdout",
     "output_type": "stream",
     "text": [
      "[I 2024-11-09 13:45:59,954] Trial 63 finished with value: 16795.587307363014 and parameters: {'booster': 'dart', 'lambda': 1.1414410523719013e-06, 'alpha': 1.2402573892886883e-05, 'subsample': 0.5088288803503653, 'colsample_bytree': 0.47904427297850105, 'max_depth': 5, 'learning_rate': 0.16699901321048122, 'n_estimators': 206}. Best is trial 46 with value: 14576.526723030822.\n"
     ]
    },
    {
     "name": "stderr",
     "output_type": "stream",
     "text": [
      "Best trial: 46. Best value: 14576.5:  65%|██████▌   | 65/100 [130:31:09<137:22:48, 14130.53s/it]"
     ]
    },
    {
     "name": "stdout",
     "output_type": "stream",
     "text": [
      "[I 2024-11-09 17:30:05,383] Trial 64 finished with value: 14687.389715325342 and parameters: {'booster': 'dart', 'lambda': 8.378520912491454e-08, 'alpha': 4.4449649230058856e-07, 'subsample': 0.4531656443230561, 'colsample_bytree': 0.459616838856619, 'max_depth': 6, 'learning_rate': 0.04808782196238467, 'n_estimators': 238}. Best is trial 46 with value: 14576.526723030822.\n"
     ]
    },
    {
     "name": "stderr",
     "output_type": "stream",
     "text": [
      "Best trial: 46. Best value: 14576.5:  66%|██████▌   | 66/100 [133:54:55<128:03:31, 13559.17s/it]"
     ]
    },
    {
     "name": "stdout",
     "output_type": "stream",
     "text": [
      "[I 2024-11-09 20:53:51,370] Trial 65 finished with value: 14887.335059931507 and parameters: {'booster': 'dart', 'lambda': 9.949545458951952e-08, 'alpha': 3.006468163698921e-08, 'subsample': 0.4495827212271951, 'colsample_bytree': 0.4537508810109816, 'max_depth': 6, 'learning_rate': 0.05960539735849603, 'n_estimators': 228}. Best is trial 46 with value: 14576.526723030822.\n"
     ]
    },
    {
     "name": "stderr",
     "output_type": "stream",
     "text": [
      "Best trial: 46. Best value: 14576.5:  67%|██████▋   | 67/100 [137:41:21<124:21:59, 13567.27s/it]"
     ]
    },
    {
     "name": "stdout",
     "output_type": "stream",
     "text": [
      "[I 2024-11-10 00:40:17,555] Trial 66 finished with value: 16213.085049229452 and parameters: {'booster': 'dart', 'lambda': 2.170252723313379e-08, 'alpha': 5.20117566573473e-07, 'subsample': 0.40067135329293285, 'colsample_bytree': 0.3413905078363995, 'max_depth': 7, 'learning_rate': 0.0865690007625255, 'n_estimators': 240}. Best is trial 46 with value: 14576.526723030822.\n"
     ]
    },
    {
     "name": "stderr",
     "output_type": "stream",
     "text": [
      "Best trial: 46. Best value: 14576.5:  68%|██████▊   | 68/100 [140:34:20<112:05:41, 12610.67s/it]"
     ]
    },
    {
     "name": "stdout",
     "output_type": "stream",
     "text": [
      "[I 2024-11-10 03:33:16,156] Trial 67 finished with value: 15828.350224743152 and parameters: {'booster': 'dart', 'lambda': 5.511974832053994e-08, 'alpha': 1.8099422591689089e-07, 'subsample': 0.6869406167843016, 'colsample_bytree': 0.420326399009534, 'max_depth': 6, 'learning_rate': 0.14459856302008697, 'n_estimators': 210}. Best is trial 46 with value: 14576.526723030822.\n"
     ]
    },
    {
     "name": "stderr",
     "output_type": "stream",
     "text": [
      "Best trial: 46. Best value: 14576.5:  69%|██████▉   | 69/100 [145:22:17<120:38:46, 14010.52s/it]"
     ]
    },
    {
     "name": "stdout",
     "output_type": "stream",
     "text": [
      "[I 2024-11-10 08:21:13,005] Trial 68 finished with value: 14915.571543236301 and parameters: {'booster': 'dart', 'lambda': 2.2315357894073932e-07, 'alpha': 4.2899342572238416e-05, 'subsample': 0.5638019348695494, 'colsample_bytree': 0.46806055553074594, 'max_depth': 6, 'learning_rate': 0.02599243560022725, 'n_estimators': 271}. Best is trial 46 with value: 14576.526723030822.\n"
     ]
    },
    {
     "name": "stderr",
     "output_type": "stream",
     "text": [
      "Best trial: 46. Best value: 14576.5:  70%|███████   | 70/100 [150:52:32<131:15:55, 15751.85s/it]"
     ]
    },
    {
     "name": "stdout",
     "output_type": "stream",
     "text": [
      "[I 2024-11-10 13:51:27,952] Trial 69 finished with value: 16234.071650256848 and parameters: {'booster': 'dart', 'lambda': 1.6686525301497425e-06, 'alpha': 1.6287531737563914e-06, 'subsample': 0.6079041703184712, 'colsample_bytree': 0.3971967940920637, 'max_depth': 7, 'learning_rate': 0.17419435147668486, 'n_estimators': 289}. Best is trial 46 with value: 14576.526723030822.\n"
     ]
    },
    {
     "name": "stderr",
     "output_type": "stream",
     "text": [
      "Best trial: 46. Best value: 14576.5:  71%|███████   | 71/100 [153:58:15<115:45:10, 14369.34s/it]"
     ]
    },
    {
     "name": "stdout",
     "output_type": "stream",
     "text": [
      "[I 2024-11-10 16:57:11,428] Trial 70 finished with value: 15884.479666095891 and parameters: {'booster': 'dart', 'lambda': 4.862633767950272e-06, 'alpha': 5.448396271157472e-07, 'subsample': 0.5253552293265782, 'colsample_bytree': 0.36499060140749406, 'max_depth': 5, 'learning_rate': 0.13720814830167455, 'n_estimators': 219}. Best is trial 46 with value: 14576.526723030822.\n"
     ]
    },
    {
     "name": "stderr",
     "output_type": "stream",
     "text": [
      "Best trial: 46. Best value: 14576.5:  72%|███████▏  | 72/100 [160:15:52<131:05:54, 16855.50s/it]"
     ]
    },
    {
     "name": "stdout",
     "output_type": "stream",
     "text": [
      "[I 2024-11-10 23:14:47,978] Trial 71 finished with value: 14683.22341609589 and parameters: {'booster': 'dart', 'lambda': 5.790516466149337e-07, 'alpha': 7.414630012930704e-06, 'subsample': 0.4729489389376773, 'colsample_bytree': 0.4917472549663895, 'max_depth': 5, 'learning_rate': 0.04137766853806776, 'n_estimators': 310}. Best is trial 46 with value: 14576.526723030822.\n"
     ]
    },
    {
     "name": "stderr",
     "output_type": "stream",
     "text": [
      "Best trial: 72. Best value: 14324.4:  73%|███████▎  | 73/100 [166:42:49<140:43:53, 18764.21s/it]"
     ]
    },
    {
     "name": "stdout",
     "output_type": "stream",
     "text": [
      "[I 2024-11-11 05:41:45,833] Trial 72 finished with value: 14324.352622003425 and parameters: {'booster': 'dart', 'lambda': 1.2246330866896723e-07, 'alpha': 8.340698586854568e-06, 'subsample': 0.651775221528867, 'colsample_bytree': 0.43749952717182383, 'max_depth': 5, 'learning_rate': 0.05486520178251461, 'n_estimators': 314}. Best is trial 72 with value: 14324.352622003425.\n"
     ]
    }
   ],
   "source": [
    "# Create a study object and optimize it using Optuna\n",
    "study = optuna.create_study(direction='minimize')\n",
    "study.optimize(objective, n_trials=100, show_progress_bar=True)"
   ]
  },
  {
   "cell_type": "code",
   "execution_count": 15,
   "metadata": {},
   "outputs": [
    {
     "name": "stdout",
     "output_type": "stream",
     "text": [
      "Best hyperparameters: {'booster': 'dart', 'lambda': 1.2246330866896723e-07, 'alpha': 8.340698586854568e-06, 'subsample': 0.651775221528867, 'colsample_bytree': 0.43749952717182383, 'max_depth': 5, 'learning_rate': 0.05486520178251461, 'n_estimators': 314}\n",
      "Best MSE: 14324.352622003425\n"
     ]
    }
   ],
   "source": [
    "# Print the best hyperparameters and the corresponding RMSE\n",
    "print(f\"Best hyperparameters: {study.best_params}\")\n",
    "print(f\"Best MSE: {study.best_value}\")"
   ]
  },
  {
   "cell_type": "markdown",
   "metadata": {},
   "source": [
    "Best hyperparameters are saved in a JSON file just to make sure they are not lost in case of any problem with the trained final model."
   ]
  },
  {
   "cell_type": "code",
   "execution_count": 20,
   "metadata": {},
   "outputs": [],
   "source": [
    "with open(\"xgboost_best_params.json\", \"w\") as outfile: \n",
    "    json.dump(study.best_params, outfile)"
   ]
  },
  {
   "cell_type": "markdown",
   "metadata": {},
   "source": [
    "# 3. Fit the model"
   ]
  },
  {
   "cell_type": "markdown",
   "metadata": {},
   "source": [
    "The model is fitted with the optimized hyperparameters."
   ]
  },
  {
   "cell_type": "code",
   "execution_count": 21,
   "metadata": {},
   "outputs": [],
   "source": [
    "xg_reg = xgb.XGBRegressor(**study.best_params)"
   ]
  },
  {
   "cell_type": "code",
   "execution_count": 22,
   "metadata": {},
   "outputs": [
    {
     "data": {
      "text/html": [
       "<style>#sk-container-id-1 {\n",
       "  /* Definition of color scheme common for light and dark mode */\n",
       "  --sklearn-color-text: black;\n",
       "  --sklearn-color-line: gray;\n",
       "  /* Definition of color scheme for unfitted estimators */\n",
       "  --sklearn-color-unfitted-level-0: #fff5e6;\n",
       "  --sklearn-color-unfitted-level-1: #f6e4d2;\n",
       "  --sklearn-color-unfitted-level-2: #ffe0b3;\n",
       "  --sklearn-color-unfitted-level-3: chocolate;\n",
       "  /* Definition of color scheme for fitted estimators */\n",
       "  --sklearn-color-fitted-level-0: #f0f8ff;\n",
       "  --sklearn-color-fitted-level-1: #d4ebff;\n",
       "  --sklearn-color-fitted-level-2: #b3dbfd;\n",
       "  --sklearn-color-fitted-level-3: cornflowerblue;\n",
       "\n",
       "  /* Specific color for light theme */\n",
       "  --sklearn-color-text-on-default-background: var(--sg-text-color, var(--theme-code-foreground, var(--jp-content-font-color1, black)));\n",
       "  --sklearn-color-background: var(--sg-background-color, var(--theme-background, var(--jp-layout-color0, white)));\n",
       "  --sklearn-color-border-box: var(--sg-text-color, var(--theme-code-foreground, var(--jp-content-font-color1, black)));\n",
       "  --sklearn-color-icon: #696969;\n",
       "\n",
       "  @media (prefers-color-scheme: dark) {\n",
       "    /* Redefinition of color scheme for dark theme */\n",
       "    --sklearn-color-text-on-default-background: var(--sg-text-color, var(--theme-code-foreground, var(--jp-content-font-color1, white)));\n",
       "    --sklearn-color-background: var(--sg-background-color, var(--theme-background, var(--jp-layout-color0, #111)));\n",
       "    --sklearn-color-border-box: var(--sg-text-color, var(--theme-code-foreground, var(--jp-content-font-color1, white)));\n",
       "    --sklearn-color-icon: #878787;\n",
       "  }\n",
       "}\n",
       "\n",
       "#sk-container-id-1 {\n",
       "  color: var(--sklearn-color-text);\n",
       "}\n",
       "\n",
       "#sk-container-id-1 pre {\n",
       "  padding: 0;\n",
       "}\n",
       "\n",
       "#sk-container-id-1 input.sk-hidden--visually {\n",
       "  border: 0;\n",
       "  clip: rect(1px 1px 1px 1px);\n",
       "  clip: rect(1px, 1px, 1px, 1px);\n",
       "  height: 1px;\n",
       "  margin: -1px;\n",
       "  overflow: hidden;\n",
       "  padding: 0;\n",
       "  position: absolute;\n",
       "  width: 1px;\n",
       "}\n",
       "\n",
       "#sk-container-id-1 div.sk-dashed-wrapped {\n",
       "  border: 1px dashed var(--sklearn-color-line);\n",
       "  margin: 0 0.4em 0.5em 0.4em;\n",
       "  box-sizing: border-box;\n",
       "  padding-bottom: 0.4em;\n",
       "  background-color: var(--sklearn-color-background);\n",
       "}\n",
       "\n",
       "#sk-container-id-1 div.sk-container {\n",
       "  /* jupyter's `normalize.less` sets `[hidden] { display: none; }`\n",
       "     but bootstrap.min.css set `[hidden] { display: none !important; }`\n",
       "     so we also need the `!important` here to be able to override the\n",
       "     default hidden behavior on the sphinx rendered scikit-learn.org.\n",
       "     See: https://github.com/scikit-learn/scikit-learn/issues/21755 */\n",
       "  display: inline-block !important;\n",
       "  position: relative;\n",
       "}\n",
       "\n",
       "#sk-container-id-1 div.sk-text-repr-fallback {\n",
       "  display: none;\n",
       "}\n",
       "\n",
       "div.sk-parallel-item,\n",
       "div.sk-serial,\n",
       "div.sk-item {\n",
       "  /* draw centered vertical line to link estimators */\n",
       "  background-image: linear-gradient(var(--sklearn-color-text-on-default-background), var(--sklearn-color-text-on-default-background));\n",
       "  background-size: 2px 100%;\n",
       "  background-repeat: no-repeat;\n",
       "  background-position: center center;\n",
       "}\n",
       "\n",
       "/* Parallel-specific style estimator block */\n",
       "\n",
       "#sk-container-id-1 div.sk-parallel-item::after {\n",
       "  content: \"\";\n",
       "  width: 100%;\n",
       "  border-bottom: 2px solid var(--sklearn-color-text-on-default-background);\n",
       "  flex-grow: 1;\n",
       "}\n",
       "\n",
       "#sk-container-id-1 div.sk-parallel {\n",
       "  display: flex;\n",
       "  align-items: stretch;\n",
       "  justify-content: center;\n",
       "  background-color: var(--sklearn-color-background);\n",
       "  position: relative;\n",
       "}\n",
       "\n",
       "#sk-container-id-1 div.sk-parallel-item {\n",
       "  display: flex;\n",
       "  flex-direction: column;\n",
       "}\n",
       "\n",
       "#sk-container-id-1 div.sk-parallel-item:first-child::after {\n",
       "  align-self: flex-end;\n",
       "  width: 50%;\n",
       "}\n",
       "\n",
       "#sk-container-id-1 div.sk-parallel-item:last-child::after {\n",
       "  align-self: flex-start;\n",
       "  width: 50%;\n",
       "}\n",
       "\n",
       "#sk-container-id-1 div.sk-parallel-item:only-child::after {\n",
       "  width: 0;\n",
       "}\n",
       "\n",
       "/* Serial-specific style estimator block */\n",
       "\n",
       "#sk-container-id-1 div.sk-serial {\n",
       "  display: flex;\n",
       "  flex-direction: column;\n",
       "  align-items: center;\n",
       "  background-color: var(--sklearn-color-background);\n",
       "  padding-right: 1em;\n",
       "  padding-left: 1em;\n",
       "}\n",
       "\n",
       "\n",
       "/* Toggleable style: style used for estimator/Pipeline/ColumnTransformer box that is\n",
       "clickable and can be expanded/collapsed.\n",
       "- Pipeline and ColumnTransformer use this feature and define the default style\n",
       "- Estimators will overwrite some part of the style using the `sk-estimator` class\n",
       "*/\n",
       "\n",
       "/* Pipeline and ColumnTransformer style (default) */\n",
       "\n",
       "#sk-container-id-1 div.sk-toggleable {\n",
       "  /* Default theme specific background. It is overwritten whether we have a\n",
       "  specific estimator or a Pipeline/ColumnTransformer */\n",
       "  background-color: var(--sklearn-color-background);\n",
       "}\n",
       "\n",
       "/* Toggleable label */\n",
       "#sk-container-id-1 label.sk-toggleable__label {\n",
       "  cursor: pointer;\n",
       "  display: block;\n",
       "  width: 100%;\n",
       "  margin-bottom: 0;\n",
       "  padding: 0.5em;\n",
       "  box-sizing: border-box;\n",
       "  text-align: center;\n",
       "}\n",
       "\n",
       "#sk-container-id-1 label.sk-toggleable__label-arrow:before {\n",
       "  /* Arrow on the left of the label */\n",
       "  content: \"▸\";\n",
       "  float: left;\n",
       "  margin-right: 0.25em;\n",
       "  color: var(--sklearn-color-icon);\n",
       "}\n",
       "\n",
       "#sk-container-id-1 label.sk-toggleable__label-arrow:hover:before {\n",
       "  color: var(--sklearn-color-text);\n",
       "}\n",
       "\n",
       "/* Toggleable content - dropdown */\n",
       "\n",
       "#sk-container-id-1 div.sk-toggleable__content {\n",
       "  max-height: 0;\n",
       "  max-width: 0;\n",
       "  overflow: hidden;\n",
       "  text-align: left;\n",
       "  /* unfitted */\n",
       "  background-color: var(--sklearn-color-unfitted-level-0);\n",
       "}\n",
       "\n",
       "#sk-container-id-1 div.sk-toggleable__content.fitted {\n",
       "  /* fitted */\n",
       "  background-color: var(--sklearn-color-fitted-level-0);\n",
       "}\n",
       "\n",
       "#sk-container-id-1 div.sk-toggleable__content pre {\n",
       "  margin: 0.2em;\n",
       "  border-radius: 0.25em;\n",
       "  color: var(--sklearn-color-text);\n",
       "  /* unfitted */\n",
       "  background-color: var(--sklearn-color-unfitted-level-0);\n",
       "}\n",
       "\n",
       "#sk-container-id-1 div.sk-toggleable__content.fitted pre {\n",
       "  /* unfitted */\n",
       "  background-color: var(--sklearn-color-fitted-level-0);\n",
       "}\n",
       "\n",
       "#sk-container-id-1 input.sk-toggleable__control:checked~div.sk-toggleable__content {\n",
       "  /* Expand drop-down */\n",
       "  max-height: 200px;\n",
       "  max-width: 100%;\n",
       "  overflow: auto;\n",
       "}\n",
       "\n",
       "#sk-container-id-1 input.sk-toggleable__control:checked~label.sk-toggleable__label-arrow:before {\n",
       "  content: \"▾\";\n",
       "}\n",
       "\n",
       "/* Pipeline/ColumnTransformer-specific style */\n",
       "\n",
       "#sk-container-id-1 div.sk-label input.sk-toggleable__control:checked~label.sk-toggleable__label {\n",
       "  color: var(--sklearn-color-text);\n",
       "  background-color: var(--sklearn-color-unfitted-level-2);\n",
       "}\n",
       "\n",
       "#sk-container-id-1 div.sk-label.fitted input.sk-toggleable__control:checked~label.sk-toggleable__label {\n",
       "  background-color: var(--sklearn-color-fitted-level-2);\n",
       "}\n",
       "\n",
       "/* Estimator-specific style */\n",
       "\n",
       "/* Colorize estimator box */\n",
       "#sk-container-id-1 div.sk-estimator input.sk-toggleable__control:checked~label.sk-toggleable__label {\n",
       "  /* unfitted */\n",
       "  background-color: var(--sklearn-color-unfitted-level-2);\n",
       "}\n",
       "\n",
       "#sk-container-id-1 div.sk-estimator.fitted input.sk-toggleable__control:checked~label.sk-toggleable__label {\n",
       "  /* fitted */\n",
       "  background-color: var(--sklearn-color-fitted-level-2);\n",
       "}\n",
       "\n",
       "#sk-container-id-1 div.sk-label label.sk-toggleable__label,\n",
       "#sk-container-id-1 div.sk-label label {\n",
       "  /* The background is the default theme color */\n",
       "  color: var(--sklearn-color-text-on-default-background);\n",
       "}\n",
       "\n",
       "/* On hover, darken the color of the background */\n",
       "#sk-container-id-1 div.sk-label:hover label.sk-toggleable__label {\n",
       "  color: var(--sklearn-color-text);\n",
       "  background-color: var(--sklearn-color-unfitted-level-2);\n",
       "}\n",
       "\n",
       "/* Label box, darken color on hover, fitted */\n",
       "#sk-container-id-1 div.sk-label.fitted:hover label.sk-toggleable__label.fitted {\n",
       "  color: var(--sklearn-color-text);\n",
       "  background-color: var(--sklearn-color-fitted-level-2);\n",
       "}\n",
       "\n",
       "/* Estimator label */\n",
       "\n",
       "#sk-container-id-1 div.sk-label label {\n",
       "  font-family: monospace;\n",
       "  font-weight: bold;\n",
       "  display: inline-block;\n",
       "  line-height: 1.2em;\n",
       "}\n",
       "\n",
       "#sk-container-id-1 div.sk-label-container {\n",
       "  text-align: center;\n",
       "}\n",
       "\n",
       "/* Estimator-specific */\n",
       "#sk-container-id-1 div.sk-estimator {\n",
       "  font-family: monospace;\n",
       "  border: 1px dotted var(--sklearn-color-border-box);\n",
       "  border-radius: 0.25em;\n",
       "  box-sizing: border-box;\n",
       "  margin-bottom: 0.5em;\n",
       "  /* unfitted */\n",
       "  background-color: var(--sklearn-color-unfitted-level-0);\n",
       "}\n",
       "\n",
       "#sk-container-id-1 div.sk-estimator.fitted {\n",
       "  /* fitted */\n",
       "  background-color: var(--sklearn-color-fitted-level-0);\n",
       "}\n",
       "\n",
       "/* on hover */\n",
       "#sk-container-id-1 div.sk-estimator:hover {\n",
       "  /* unfitted */\n",
       "  background-color: var(--sklearn-color-unfitted-level-2);\n",
       "}\n",
       "\n",
       "#sk-container-id-1 div.sk-estimator.fitted:hover {\n",
       "  /* fitted */\n",
       "  background-color: var(--sklearn-color-fitted-level-2);\n",
       "}\n",
       "\n",
       "/* Specification for estimator info (e.g. \"i\" and \"?\") */\n",
       "\n",
       "/* Common style for \"i\" and \"?\" */\n",
       "\n",
       ".sk-estimator-doc-link,\n",
       "a:link.sk-estimator-doc-link,\n",
       "a:visited.sk-estimator-doc-link {\n",
       "  float: right;\n",
       "  font-size: smaller;\n",
       "  line-height: 1em;\n",
       "  font-family: monospace;\n",
       "  background-color: var(--sklearn-color-background);\n",
       "  border-radius: 1em;\n",
       "  height: 1em;\n",
       "  width: 1em;\n",
       "  text-decoration: none !important;\n",
       "  margin-left: 1ex;\n",
       "  /* unfitted */\n",
       "  border: var(--sklearn-color-unfitted-level-1) 1pt solid;\n",
       "  color: var(--sklearn-color-unfitted-level-1);\n",
       "}\n",
       "\n",
       ".sk-estimator-doc-link.fitted,\n",
       "a:link.sk-estimator-doc-link.fitted,\n",
       "a:visited.sk-estimator-doc-link.fitted {\n",
       "  /* fitted */\n",
       "  border: var(--sklearn-color-fitted-level-1) 1pt solid;\n",
       "  color: var(--sklearn-color-fitted-level-1);\n",
       "}\n",
       "\n",
       "/* On hover */\n",
       "div.sk-estimator:hover .sk-estimator-doc-link:hover,\n",
       ".sk-estimator-doc-link:hover,\n",
       "div.sk-label-container:hover .sk-estimator-doc-link:hover,\n",
       ".sk-estimator-doc-link:hover {\n",
       "  /* unfitted */\n",
       "  background-color: var(--sklearn-color-unfitted-level-3);\n",
       "  color: var(--sklearn-color-background);\n",
       "  text-decoration: none;\n",
       "}\n",
       "\n",
       "div.sk-estimator.fitted:hover .sk-estimator-doc-link.fitted:hover,\n",
       ".sk-estimator-doc-link.fitted:hover,\n",
       "div.sk-label-container:hover .sk-estimator-doc-link.fitted:hover,\n",
       ".sk-estimator-doc-link.fitted:hover {\n",
       "  /* fitted */\n",
       "  background-color: var(--sklearn-color-fitted-level-3);\n",
       "  color: var(--sklearn-color-background);\n",
       "  text-decoration: none;\n",
       "}\n",
       "\n",
       "/* Span, style for the box shown on hovering the info icon */\n",
       ".sk-estimator-doc-link span {\n",
       "  display: none;\n",
       "  z-index: 9999;\n",
       "  position: relative;\n",
       "  font-weight: normal;\n",
       "  right: .2ex;\n",
       "  padding: .5ex;\n",
       "  margin: .5ex;\n",
       "  width: min-content;\n",
       "  min-width: 20ex;\n",
       "  max-width: 50ex;\n",
       "  color: var(--sklearn-color-text);\n",
       "  box-shadow: 2pt 2pt 4pt #999;\n",
       "  /* unfitted */\n",
       "  background: var(--sklearn-color-unfitted-level-0);\n",
       "  border: .5pt solid var(--sklearn-color-unfitted-level-3);\n",
       "}\n",
       "\n",
       ".sk-estimator-doc-link.fitted span {\n",
       "  /* fitted */\n",
       "  background: var(--sklearn-color-fitted-level-0);\n",
       "  border: var(--sklearn-color-fitted-level-3);\n",
       "}\n",
       "\n",
       ".sk-estimator-doc-link:hover span {\n",
       "  display: block;\n",
       "}\n",
       "\n",
       "/* \"?\"-specific style due to the `<a>` HTML tag */\n",
       "\n",
       "#sk-container-id-1 a.estimator_doc_link {\n",
       "  float: right;\n",
       "  font-size: 1rem;\n",
       "  line-height: 1em;\n",
       "  font-family: monospace;\n",
       "  background-color: var(--sklearn-color-background);\n",
       "  border-radius: 1rem;\n",
       "  height: 1rem;\n",
       "  width: 1rem;\n",
       "  text-decoration: none;\n",
       "  /* unfitted */\n",
       "  color: var(--sklearn-color-unfitted-level-1);\n",
       "  border: var(--sklearn-color-unfitted-level-1) 1pt solid;\n",
       "}\n",
       "\n",
       "#sk-container-id-1 a.estimator_doc_link.fitted {\n",
       "  /* fitted */\n",
       "  border: var(--sklearn-color-fitted-level-1) 1pt solid;\n",
       "  color: var(--sklearn-color-fitted-level-1);\n",
       "}\n",
       "\n",
       "/* On hover */\n",
       "#sk-container-id-1 a.estimator_doc_link:hover {\n",
       "  /* unfitted */\n",
       "  background-color: var(--sklearn-color-unfitted-level-3);\n",
       "  color: var(--sklearn-color-background);\n",
       "  text-decoration: none;\n",
       "}\n",
       "\n",
       "#sk-container-id-1 a.estimator_doc_link.fitted:hover {\n",
       "  /* fitted */\n",
       "  background-color: var(--sklearn-color-fitted-level-3);\n",
       "}\n",
       "</style><div id=\"sk-container-id-1\" class=\"sk-top-container\"><div class=\"sk-text-repr-fallback\"><pre>XGBRegressor(alpha=8.340698586854568e-06, base_score=None, booster=&#x27;dart&#x27;,\n",
       "             callbacks=None, colsample_bylevel=None, colsample_bynode=None,\n",
       "             colsample_bytree=0.43749952717182383, device=None,\n",
       "             early_stopping_rounds=None, enable_categorical=False,\n",
       "             eval_metric=None, feature_types=None, gamma=None, grow_policy=None,\n",
       "             importance_type=None, interaction_constraints=None,\n",
       "             lambda=1.2246330866896723e-07, learning_rate=0.05486520178251461,\n",
       "             max_bin=None, max_cat_threshold=None, max_cat_to_onehot=None,\n",
       "             max_delta_step=None, max_depth=5, max_leaves=None,\n",
       "             min_child_weight=None, missing=nan, monotone_constraints=None,\n",
       "             multi_strategy=None, n_estimators=314, n_jobs=None, ...)</pre><b>In a Jupyter environment, please rerun this cell to show the HTML representation or trust the notebook. <br />On GitHub, the HTML representation is unable to render, please try loading this page with nbviewer.org.</b></div><div class=\"sk-container\" hidden><div class=\"sk-item\"><div class=\"sk-estimator fitted sk-toggleable\"><input class=\"sk-toggleable__control sk-hidden--visually\" id=\"sk-estimator-id-1\" type=\"checkbox\" checked><label for=\"sk-estimator-id-1\" class=\"sk-toggleable__label fitted sk-toggleable__label-arrow fitted\">&nbsp;XGBRegressor<span class=\"sk-estimator-doc-link fitted\">i<span>Fitted</span></span></label><div class=\"sk-toggleable__content fitted\"><pre>XGBRegressor(alpha=8.340698586854568e-06, base_score=None, booster=&#x27;dart&#x27;,\n",
       "             callbacks=None, colsample_bylevel=None, colsample_bynode=None,\n",
       "             colsample_bytree=0.43749952717182383, device=None,\n",
       "             early_stopping_rounds=None, enable_categorical=False,\n",
       "             eval_metric=None, feature_types=None, gamma=None, grow_policy=None,\n",
       "             importance_type=None, interaction_constraints=None,\n",
       "             lambda=1.2246330866896723e-07, learning_rate=0.05486520178251461,\n",
       "             max_bin=None, max_cat_threshold=None, max_cat_to_onehot=None,\n",
       "             max_delta_step=None, max_depth=5, max_leaves=None,\n",
       "             min_child_weight=None, missing=nan, monotone_constraints=None,\n",
       "             multi_strategy=None, n_estimators=314, n_jobs=None, ...)</pre></div> </div></div></div></div>"
      ],
      "text/plain": [
       "XGBRegressor(alpha=8.340698586854568e-06, base_score=None, booster='dart',\n",
       "             callbacks=None, colsample_bylevel=None, colsample_bynode=None,\n",
       "             colsample_bytree=0.43749952717182383, device=None,\n",
       "             early_stopping_rounds=None, enable_categorical=False,\n",
       "             eval_metric=None, feature_types=None, gamma=None, grow_policy=None,\n",
       "             importance_type=None, interaction_constraints=None,\n",
       "             lambda=1.2246330866896723e-07, learning_rate=0.05486520178251461,\n",
       "             max_bin=None, max_cat_threshold=None, max_cat_to_onehot=None,\n",
       "             max_delta_step=None, max_depth=5, max_leaves=None,\n",
       "             min_child_weight=None, missing=nan, monotone_constraints=None,\n",
       "             multi_strategy=None, n_estimators=314, n_jobs=None, ...)"
      ]
     },
     "execution_count": 22,
     "metadata": {},
     "output_type": "execute_result"
    }
   ],
   "source": [
    "xg_reg.fit(X,y)"
   ]
  },
  {
   "cell_type": "markdown",
   "metadata": {},
   "source": [
    "# 4. Save the model"
   ]
  },
  {
   "cell_type": "markdown",
   "metadata": {},
   "source": [
    "The fitted model is saved using xgboost's model built-in method."
   ]
  },
  {
   "cell_type": "code",
   "execution_count": 27,
   "metadata": {},
   "outputs": [],
   "source": [
    "if not os.path.exists('./models/'):\n",
    "    os.makedirs('./models/')\n",
    "    \n",
    "xg_reg.save_model('./models/xgboost_reg.json')"
   ]
  }
 ],
 "metadata": {
  "kernelspec": {
   "display_name": "Python 3",
   "language": "python",
   "name": "python3"
  },
  "language_info": {
   "codemirror_mode": {
    "name": "ipython",
    "version": 3
   },
   "file_extension": ".py",
   "mimetype": "text/x-python",
   "name": "python",
   "nbconvert_exporter": "python",
   "pygments_lexer": "ipython3",
   "version": "3.11.9"
  }
 },
 "nbformat": 4,
 "nbformat_minor": 4
}
